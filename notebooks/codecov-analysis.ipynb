{
 "cells": [
  {
   "cell_type": "code",
   "execution_count": null,
   "id": "fac2b77b",
   "metadata": {},
   "outputs": [],
   "source": [
    "import requests\n",
    "import json\n",
    "import sys\n",
    "import os\n",
    "sys.path.insert(0, '../ghtesting')\n",
    "\n",
    "import matplotlib.pyplot as plt\n",
    "import pandas as pd\n",
    "from ghdatabase import GHDatabase\n",
    "from ghrepo import GHRepo\n",
    "from tqdm.auto import tqdm\n",
    "from datetime import datetime"
   ]
  },
  {
   "cell_type": "code",
   "execution_count": null,
   "id": "1bf8d805",
   "metadata": {},
   "outputs": [],
   "source": [
    "plt.style.use(['science'])"
   ]
  },
  {
   "cell_type": "code",
   "execution_count": null,
   "id": "f65b7d5f",
   "metadata": {},
   "outputs": [],
   "source": [
    "repo_db = GHDatabase('ecs260', 'webframework_repos', os.environ['CONNECTION_STRING'])\n",
    "\n",
    "repos = list(repo_db.get_repos())\n",
    "\n",
    "num_repos = len(repos)\n",
    "print(f'Number of repos: {num_repos}')"
   ]
  },
  {
   "cell_type": "code",
   "execution_count": null,
   "id": "16ae2d7b",
   "metadata": {},
   "outputs": [],
   "source": [
    "codecov_db = GHDatabase('ecs260', 'codecov_api', os.environ['CONNECTION_STRING'])\n",
    "codecov_api = list(codecov_db.get_repos())"
   ]
  },
  {
   "cell_type": "markdown",
   "id": "706ce05a",
   "metadata": {},
   "source": [
    "# Get initial responses from codecov api"
   ]
  },
  {
   "cell_type": "code",
   "execution_count": null,
   "id": "fde9adc1",
   "metadata": {},
   "outputs": [],
   "source": [
    "def get_codecov_response(_id, page=None):\n",
    "    page = f'?page=%s&limit=250' % page if page is not None else ''\n",
    "    url = 'http://codecov.io/api/gh/%s/commits%s' % (_id, page)\n",
    "    r = requests.get(url)\n",
    "    return r.json()"
   ]
  },
  {
   "cell_type": "code",
   "execution_count": null,
   "id": "4ac26d44",
   "metadata": {},
   "outputs": [],
   "source": [
    "ids_done = set(map(lambda x: x['_id'], codecov_api))\n",
    "remaining = [repo for repo in repos if repo['_id'] not in ids_done]\n",
    "\n",
    "for repo in tqdm(remaining):\n",
    "    \n",
    "    # get data from api\n",
    "    _id = repo['_id']\n",
    "    page = 1\n",
    "    first_response = None\n",
    "    repo_commits = []\n",
    "    \n",
    "    while True:\n",
    "        \n",
    "        # get commits page from api\n",
    "        response = get_codecov_response(_id, page)\n",
    "        \n",
    "        # save first response\n",
    "        if page == 1:\n",
    "            first_response = response\n",
    "            \n",
    "        # get commits if available\n",
    "        commits = response.get('commits', [])\n",
    "        \n",
    "        # extend repo commits collection\n",
    "        repo_commits.extend(commits)\n",
    "        \n",
    "        # increment page number\n",
    "        page += 1\n",
    "        \n",
    "        # break if no new commits in current page\n",
    "        if len(commits) == 0:\n",
    "            break\n",
    "       \n",
    "    codecov_db.update_repo(dict(\n",
    "        _id=_id,\n",
    "        data=first_response,\n",
    "        commits=repo_commits\n",
    "    ))"
   ]
  },
  {
   "cell_type": "markdown",
   "id": "43bad38d",
   "metadata": {},
   "source": [
    "# Check coverage"
   ]
  },
  {
   "cell_type": "code",
   "execution_count": null,
   "id": "58dff7f0",
   "metadata": {},
   "outputs": [],
   "source": [
    "active = []\n",
    "inactive = []\n",
    "errors = []\n",
    "\n",
    "for response in codecov_api:\n",
    "    if 'error' in response['data']:\n",
    "        errors.append(response)\n",
    "        \n",
    "    elif response['data']['repo']['active']:\n",
    "        active.append(response)\n",
    "    \n",
    "    elif not response['data']['repo']['active']:\n",
    "        inactive.append(response)"
   ]
  },
  {
   "cell_type": "code",
   "execution_count": null,
   "id": "affad095",
   "metadata": {},
   "outputs": [],
   "source": [
    "print('Errors', len(errors))\n",
    "print('Inactive', len(inactive))\n",
    "print('Active', len(active))"
   ]
  },
  {
   "cell_type": "code",
   "execution_count": null,
   "id": "af675515",
   "metadata": {},
   "outputs": [],
   "source": [
    "dc = {x['_id']: {'commits': len(x['commits'])} for x in active}\n",
    "pd.DataFrame(dc).T.describe()"
   ]
  },
  {
   "cell_type": "markdown",
   "id": "024bfec2",
   "metadata": {},
   "source": [
    "## Introduction point"
   ]
  },
  {
   "cell_type": "code",
   "execution_count": null,
   "id": "44961da6",
   "metadata": {},
   "outputs": [],
   "source": [
    "metric_map = dict(\n",
    "    coverage = 'c',\n",
    "    files = 'f',\n",
    "    lines = 'n',\n",
    "    hits = 'h',\n",
    "    missed = 'm',\n",
    "    partials = 'p',\n",
    "    branches = 'b',\n",
    "    messages = 'M',\n",
    "    sessions = 's'\n",
    ")\n",
    "\n",
    "def get_metric_values(commits, metric):\n",
    "    metric_values = []\n",
    "    key = metric_map[metric]\n",
    "    for commit in commits:\n",
    "        totals = commit.get('parent_totals')\n",
    "        if totals is not None:\n",
    "            metric_values.append(float(totals[key]))\n",
    "    return metric_values\n",
    "\n",
    "def get_author(commit):\n",
    "    return commit['author']['name']\n",
    "\n",
    "def get_timestamp(commit):\n",
    "    return commit['timestamp']\n",
    "\n",
    "def chronological_order(commits):\n",
    "    return sorted(commits, key=lambda x : datetime.strptime(x['timestamp'], '%Y-%m-%d %H:%M:%S'))"
   ]
  },
  {
   "cell_type": "code",
   "execution_count": null,
   "id": "0cf81150",
   "metadata": {},
   "outputs": [],
   "source": [
    "repo = active[150]['data']\n",
    "commits = chronological_order(repo['commits'])"
   ]
  },
  {
   "cell_type": "code",
   "execution_count": null,
   "id": "b6066048",
   "metadata": {},
   "outputs": [],
   "source": [
    "coverage = get_metric_values(commits, 'coverage')\n",
    "lines = get_metric_values(commits, 'lines')"
   ]
  },
  {
   "cell_type": "code",
   "execution_count": null,
   "id": "f12f1ba5",
   "metadata": {},
   "outputs": [],
   "source": [
    "fig, ax = plt.subplots(dpi=300)\n",
    "\n",
    "ax.plot(lines, coverage)\n",
    "\n",
    "ax.set_xlabel('Lines')\n",
    "ax.set_ylabel('Coverage')\n",
    "\n",
    "ax.set_ylim([0, 100])\n",
    "fig.show()"
   ]
  },
  {
   "cell_type": "code",
   "execution_count": null,
   "id": "efda4d6c",
   "metadata": {},
   "outputs": [],
   "source": []
  }
 ],
 "metadata": {
  "kernelspec": {
   "display_name": "Python 3 (ipykernel)",
   "language": "python",
   "name": "python3"
  },
  "language_info": {
   "codemirror_mode": {
    "name": "ipython",
    "version": 3
   },
   "file_extension": ".py",
   "mimetype": "text/x-python",
   "name": "python",
   "nbconvert_exporter": "python",
   "pygments_lexer": "ipython3",
   "version": "3.9.7"
  }
 },
 "nbformat": 4,
 "nbformat_minor": 5
}
