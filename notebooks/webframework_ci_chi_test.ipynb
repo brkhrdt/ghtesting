{
 "cells": [
  {
   "cell_type": "code",
   "execution_count": 1,
   "id": "2e31923f",
   "metadata": {},
   "outputs": [
    {
     "name": "stdout",
     "output_type": "stream",
     "text": [
      "['Solarize_Light2', '_classic_test_patch', 'bmh', 'classic', 'dark_background', 'fast', 'fivethirtyeight', 'ggplot', 'grayscale', 'seaborn', 'seaborn-bright', 'seaborn-colorblind', 'seaborn-dark', 'seaborn-dark-palette', 'seaborn-darkgrid', 'seaborn-deep', 'seaborn-muted', 'seaborn-notebook', 'seaborn-paper', 'seaborn-pastel', 'seaborn-poster', 'seaborn-talk', 'seaborn-ticks', 'seaborn-white', 'seaborn-whitegrid', 'tableau-colorblind10']\n"
     ]
    }
   ],
   "source": [
    "import sys\n",
    "import os\n",
    "import datetime\n",
    "sys.path.insert(0, os.environ['VIRTUAL_ENV']+'/ghtesting')\n",
    "\n",
    "import matplotlib.pyplot as plt\n",
    "# plt.rcParams[\"figure.figsize\"]=10,10\n",
    "import pandas as pd\n",
    "plt.style.use(['seaborn'])\n",
    "print(plt.style.available)"
   ]
  },
  {
   "cell_type": "code",
   "execution_count": 2,
   "id": "bff182a8",
   "metadata": {},
   "outputs": [],
   "source": [
    "def days_since_date(datestr):\n",
    "    date = pd.to_datetime(datestr, utc=True)\n",
    "    today = pd.to_datetime(datetime.datetime.utcnow().isoformat(), utc=True)\n",
    "    return (today - date).days"
   ]
  },
  {
   "cell_type": "code",
   "execution_count": 3,
   "id": "521cc0cc",
   "metadata": {},
   "outputs": [],
   "source": [
    "from ghdatabase import GHDatabase\n",
    "from ghrepo import GHRepo\n",
    "\n",
    "db = GHDatabase('github', 'webframework_repos')"
   ]
  },
  {
   "cell_type": "code",
   "execution_count": 20,
   "id": "fe1ddc4f",
   "metadata": {},
   "outputs": [
    {
     "data": {
      "text/html": [
       "<div>\n",
       "<style scoped>\n",
       "    .dataframe tbody tr th:only-of-type {\n",
       "        vertical-align: middle;\n",
       "    }\n",
       "\n",
       "    .dataframe tbody tr th {\n",
       "        vertical-align: top;\n",
       "    }\n",
       "\n",
       "    .dataframe thead th {\n",
       "        text-align: right;\n",
       "    }\n",
       "</style>\n",
       "<table border=\"1\" class=\"dataframe\">\n",
       "  <thead>\n",
       "    <tr style=\"text-align: right;\">\n",
       "      <th></th>\n",
       "      <th>framework</th>\n",
       "      <th>github</th>\n",
       "      <th>travisci</th>\n",
       "      <th>circleci</th>\n",
       "      <th>azure_pipelines</th>\n",
       "      <th>appveyorci</th>\n",
       "      <th>semaphoreci</th>\n",
       "      <th>gitlab</th>\n",
       "      <th>saucelabs</th>\n",
       "      <th>bitrise</th>\n",
       "      <th>buildkite</th>\n",
       "      <th>codeship</th>\n",
       "      <th>shippable</th>\n",
       "      <th>teamcity</th>\n",
       "      <th>wercker</th>\n",
       "    </tr>\n",
       "  </thead>\n",
       "  <tbody>\n",
       "    <tr>\n",
       "      <th>0</th>\n",
       "      <td>angular</td>\n",
       "      <td>115.0</td>\n",
       "      <td>216.0</td>\n",
       "      <td>66.0</td>\n",
       "      <td>12.0</td>\n",
       "      <td>3.0</td>\n",
       "      <td>1.0</td>\n",
       "      <td>2.0</td>\n",
       "      <td>1.0</td>\n",
       "      <td>0.0</td>\n",
       "      <td>0.0</td>\n",
       "      <td>0.0</td>\n",
       "      <td>0.0</td>\n",
       "      <td>0.0</td>\n",
       "      <td>0.0</td>\n",
       "    </tr>\n",
       "    <tr>\n",
       "      <th>1</th>\n",
       "      <td>react</td>\n",
       "      <td>473.0</td>\n",
       "      <td>758.0</td>\n",
       "      <td>236.0</td>\n",
       "      <td>21.0</td>\n",
       "      <td>4.0</td>\n",
       "      <td>3.0</td>\n",
       "      <td>4.0</td>\n",
       "      <td>2.0</td>\n",
       "      <td>1.0</td>\n",
       "      <td>3.0</td>\n",
       "      <td>2.0</td>\n",
       "      <td>1.0</td>\n",
       "      <td>2.0</td>\n",
       "      <td>1.0</td>\n",
       "    </tr>\n",
       "    <tr>\n",
       "      <th>2</th>\n",
       "      <td>vue</td>\n",
       "      <td>185.0</td>\n",
       "      <td>274.0</td>\n",
       "      <td>100.0</td>\n",
       "      <td>12.0</td>\n",
       "      <td>3.0</td>\n",
       "      <td>2.0</td>\n",
       "      <td>3.0</td>\n",
       "      <td>0.0</td>\n",
       "      <td>0.0</td>\n",
       "      <td>0.0</td>\n",
       "      <td>2.0</td>\n",
       "      <td>1.0</td>\n",
       "      <td>0.0</td>\n",
       "      <td>1.0</td>\n",
       "    </tr>\n",
       "  </tbody>\n",
       "</table>\n",
       "</div>"
      ],
      "text/plain": [
       "  framework  github  travisci  circleci  azure_pipelines  appveyorci  \\\n",
       "0   angular   115.0     216.0      66.0             12.0         3.0   \n",
       "1     react   473.0     758.0     236.0             21.0         4.0   \n",
       "2       vue   185.0     274.0     100.0             12.0         3.0   \n",
       "\n",
       "   semaphoreci  gitlab  saucelabs  bitrise  buildkite  codeship  shippable  \\\n",
       "0          1.0     2.0        1.0      0.0        0.0       0.0        0.0   \n",
       "1          3.0     4.0        2.0      1.0        3.0       2.0        1.0   \n",
       "2          2.0     3.0        0.0      0.0        0.0       2.0        1.0   \n",
       "\n",
       "   teamcity  wercker  \n",
       "0       0.0      0.0  \n",
       "1       2.0      1.0  \n",
       "2       0.0      1.0  "
      ]
     },
     "execution_count": 20,
     "metadata": {},
     "output_type": "execute_result"
    }
   ],
   "source": [
    "df = pd.DataFrame()\n",
    "webtopics = ['angular', 'react', 'vue']\n",
    "for t in webtopics:\n",
    "    new_row = dict()\n",
    "    new_row['framework'] = t\n",
    "    for repojson in db.get_repos():\n",
    "        repo = GHRepo(repojson)\n",
    "        if repo.stars is None:\n",
    "            continue\n",
    "        if repo.isfork:\n",
    "            continue # there are none\n",
    "        if repo.primarylanguage == 'n/a':\n",
    "            continue\n",
    "        if repo.funding_links is None:\n",
    "            continue\n",
    "        if t not in repo.topics:\n",
    "            continue\n",
    "    #     print(repo.url)\n",
    "    #     print(repo.badges[0])\n",
    "\n",
    "        push_age = days_since_date(repo.pushed_at)\n",
    "        create_age = days_since_date(repo.created_at)\n",
    "        if push_age > 730:\n",
    "            continue # filter out repos that are too old\n",
    "        if len(repo.badges[0]) > 1:\n",
    "            continue\n",
    "        for b in repo.badges[0]:\n",
    "            new_row[b] = new_row.get(b, 0) + 1\n",
    "\n",
    "    df = df.append(new_row, ignore_index=True)\n",
    "df = df.fillna(0)\n",
    "df"
   ]
  },
  {
   "cell_type": "code",
   "execution_count": 50,
   "id": "6b0e6b09",
   "metadata": {},
   "outputs": [
    {
     "data": {
      "text/html": [
       "<div>\n",
       "<style scoped>\n",
       "    .dataframe tbody tr th:only-of-type {\n",
       "        vertical-align: middle;\n",
       "    }\n",
       "\n",
       "    .dataframe tbody tr th {\n",
       "        vertical-align: top;\n",
       "    }\n",
       "\n",
       "    .dataframe thead th {\n",
       "        text-align: right;\n",
       "    }\n",
       "</style>\n",
       "<table border=\"1\" class=\"dataframe\">\n",
       "  <thead>\n",
       "    <tr style=\"text-align: right;\">\n",
       "      <th></th>\n",
       "      <th>travisci</th>\n",
       "      <th>github</th>\n",
       "      <th>circleci</th>\n",
       "      <th>azure_pipelines</th>\n",
       "    </tr>\n",
       "    <tr>\n",
       "      <th>framework</th>\n",
       "      <th></th>\n",
       "      <th></th>\n",
       "      <th></th>\n",
       "      <th></th>\n",
       "    </tr>\n",
       "  </thead>\n",
       "  <tbody>\n",
       "    <tr>\n",
       "      <th>angular</th>\n",
       "      <td>216</td>\n",
       "      <td>115</td>\n",
       "      <td>66</td>\n",
       "      <td>12</td>\n",
       "    </tr>\n",
       "    <tr>\n",
       "      <th>react</th>\n",
       "      <td>758</td>\n",
       "      <td>473</td>\n",
       "      <td>236</td>\n",
       "      <td>21</td>\n",
       "    </tr>\n",
       "    <tr>\n",
       "      <th>vue</th>\n",
       "      <td>274</td>\n",
       "      <td>185</td>\n",
       "      <td>100</td>\n",
       "      <td>12</td>\n",
       "    </tr>\n",
       "  </tbody>\n",
       "</table>\n",
       "</div>"
      ],
      "text/plain": [
       "           travisci  github  circleci  azure_pipelines\n",
       "framework                                             \n",
       "angular         216     115        66               12\n",
       "react           758     473       236               21\n",
       "vue             274     185       100               12"
      ]
     },
     "execution_count": 50,
     "metadata": {},
     "output_type": "execute_result"
    }
   ],
   "source": [
    "from scipy.stats import chi2_contingency\n",
    "# topic_5ci = df[['framework', 'travisci', 'github', 'circleci', 'azure_pipelines', 'appveyorci']].copy()\n",
    "topic_5ci = df[['framework', 'travisci', 'github', 'circleci', 'azure_pipelines']].copy()\n",
    "\n",
    "# topic_5ci = df[['framework', 'travisci', 'github', 'circleci']].copy()\n",
    "topic_5ci.set_index('framework', inplace=True)\n",
    "\n",
    "topic_5ci.astype(int)\n",
    "\n"
   ]
  },
  {
   "cell_type": "markdown",
   "id": "364ad7f2",
   "metadata": {},
   "source": [
    "### Test of Independence\n",
    "- H0: framework and ci service are independent\n",
    "\n",
    "- H1: framework and ci service are dependent\n",
    "\n",
    "since p > .05, fail to reject the null"
   ]
  },
  {
   "cell_type": "code",
   "execution_count": 51,
   "id": "2e8157e5",
   "metadata": {},
   "outputs": [
    {
     "data": {
      "text/plain": [
       "(7.950630189620748,\n",
       " 0.2417426307284076,\n",
       " 6,\n",
       " array([[206.82009724, 128.10251216,  66.61993517,   7.45745543],\n",
       "        [752.44084279, 466.05510535, 242.37277147,  27.13128039],\n",
       "        [288.73905997, 178.8423825 ,  93.00729335,  10.41126418]]))"
      ]
     },
     "execution_count": 51,
     "metadata": {},
     "output_type": "execute_result"
    }
   ],
   "source": [
    "chi2_contingency(topic_5ci)\n"
   ]
  },
  {
   "cell_type": "code",
   "execution_count": 52,
   "id": "38a82053",
   "metadata": {},
   "outputs": [
    {
     "name": "stdout",
     "output_type": "stream",
     "text": [
      "\\begin{tabular}{lrrrr}\n",
      "\\toprule\n",
      "{} &  travisci &  github &  circleci &  azure\\_pipelines \\\\\n",
      "framework &           &         &           &                  \\\\\n",
      "\\midrule\n",
      "angular   &     216.0 &   115.0 &      66.0 &             12.0 \\\\\n",
      "react     &     758.0 &   473.0 &     236.0 &             21.0 \\\\\n",
      "vue       &     274.0 &   185.0 &     100.0 &             12.0 \\\\\n",
      "\\bottomrule\n",
      "\\end{tabular}\n",
      "\n"
     ]
    }
   ],
   "source": [
    "# topic_5ci['Total'] = topic_5ci.sum(axis=1)\n",
    "print(topic_5ci.to_latex())"
   ]
  },
  {
   "cell_type": "code",
   "execution_count": 55,
   "id": "56c9c7e6",
   "metadata": {},
   "outputs": [
    {
     "data": {
      "text/plain": [
       "travisci           1248.0\n",
       "github              773.0\n",
       "circleci            402.0\n",
       "azure_pipelines      45.0\n",
       "dtype: float64"
      ]
     },
     "execution_count": 55,
     "metadata": {},
     "output_type": "execute_result"
    }
   ],
   "source": [
    "topic_5ci.sum()"
   ]
  },
  {
   "cell_type": "code",
   "execution_count": null,
   "id": "23bcf375",
   "metadata": {},
   "outputs": [],
   "source": []
  }
 ],
 "metadata": {
  "kernelspec": {
   "display_name": "Python 3 (ipykernel)",
   "language": "python",
   "name": "python3"
  },
  "language_info": {
   "codemirror_mode": {
    "name": "ipython",
    "version": 3
   },
   "file_extension": ".py",
   "mimetype": "text/x-python",
   "name": "python",
   "nbconvert_exporter": "python",
   "pygments_lexer": "ipython3",
   "version": "3.9.9"
  }
 },
 "nbformat": 4,
 "nbformat_minor": 5
}
