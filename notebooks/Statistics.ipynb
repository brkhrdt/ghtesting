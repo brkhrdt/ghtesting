{
 "cells": [
  {
   "cell_type": "code",
   "execution_count": 1,
   "id": "389c502c",
   "metadata": {},
   "outputs": [],
   "source": [
    "import pandas as pd\n",
    "import sys\n",
    "import os\n",
    "sys.path.insert(0, '../ghtesting')\n",
    "\n",
    "from ghdatabase import GHDatabase\n",
    "from ghrepo import GHRepo\n",
    "from util import *\n",
    "from macrogen import update_macro"
   ]
  },
  {
   "cell_type": "code",
   "execution_count": 2,
   "id": "696cd9e2",
   "metadata": {},
   "outputs": [],
   "source": [
    "db = GHDatabase('ecs260', 'webframework_repos', os.environ['CONNECTION_STRING'])\n",
    "\n",
    "repos = [GHRepo(i) for i in db.get_repos()]"
   ]
  },
  {
   "cell_type": "code",
   "execution_count": 3,
   "id": "39241742",
   "metadata": {},
   "outputs": [
    {
     "name": "stdout",
     "output_type": "stream",
     "text": [
      "Number of repos: 7,644\n"
     ]
    }
   ],
   "source": [
    "num_repos = len(repos)\n",
    "update_macro('numrepos', f'{num_repos:,}')\n",
    "print(f'Number of repos: {num_repos:,}')"
   ]
  },
  {
   "cell_type": "code",
   "execution_count": 4,
   "id": "8a7602e3",
   "metadata": {},
   "outputs": [],
   "source": [
    "for wf, count in Counter([get_webframework(repo) for repo in repos]).items():\n",
    "    key = 'numrepos' + wf.lower()\n",
    "    update_macro(key, f'{count:,}')"
   ]
  },
  {
   "cell_type": "code",
   "execution_count": 5,
   "id": "4bfd23a9",
   "metadata": {},
   "outputs": [],
   "source": [
    "top_badges = ['travisci', 'github', 'appveyorci', 'circleci', 'azure_pipelines']\n",
    "def get_badge(badges):\n",
    "    if len(badges) == 0:\n",
    "        return 'None'\n",
    "    for tb in top_badges:\n",
    "        if tb in badges:\n",
    "            return tb.replace('_', '')\n",
    "    return 'other'"
   ]
  },
  {
   "cell_type": "code",
   "execution_count": 6,
   "id": "64c692cc",
   "metadata": {},
   "outputs": [],
   "source": [
    "for badge, count in Counter([get_badge(repo.badges[0]) for repo in repos]).items():\n",
    "    key = 'numrepos' + badge.lower()\n",
    "    update_macro(key, f'{count:,}')\n",
    "    \n",
    "for badge, count in Counter([get_badge(repo.badges[0]) for repo in repos if get_webframework(repo) == 'Angular']).items():\n",
    "    key = 'numreposangular' + badge.lower()\n",
    "    update_macro(key, f'{count:,}')\n",
    "    \n",
    "for badge, count in Counter([get_badge(repo.badges[0]) for repo in repos if get_webframework(repo) == 'React']).items():\n",
    "    key = 'numreposreact' + badge.lower()\n",
    "    update_macro(key, f'{count:,}')\n",
    "    \n",
    "for badge, count in Counter([get_badge(repo.badges[0]) for repo in repos if get_webframework(repo) == 'Vue']).items():\n",
    "    key = 'numreposvue' + badge.lower()\n",
    "    update_macro(key, f'{count:,}')"
   ]
  },
  {
   "cell_type": "code",
   "execution_count": 7,
   "id": "eb3e3f3e",
   "metadata": {},
   "outputs": [],
   "source": [
    "cc = GHDatabase('ecs260', 'codecov_api', os.environ['CONNECTION_STRING'])\n",
    "reports = list(cc.get_repos())"
   ]
  },
  {
   "cell_type": "code",
   "execution_count": 8,
   "id": "01dd0caa",
   "metadata": {},
   "outputs": [],
   "source": [
    "def get_webframework_by_repo_id(repo_id):\n",
    "    return get_webframework([r for r in repos if r.name == repo_id][0])"
   ]
  },
  {
   "cell_type": "code",
   "execution_count": 9,
   "id": "d44afedc",
   "metadata": {},
   "outputs": [],
   "source": [
    "def is_active_codecov_repos(report):\n",
    "    return 'data' in report and 'repo' in report['data'] and report['data']['repo']['active']"
   ]
  },
  {
   "cell_type": "code",
   "execution_count": 10,
   "id": "2c2b8233",
   "metadata": {},
   "outputs": [],
   "source": [
    "update_macro('numreposcodecov', Counter([is_active_codecov_repos(report) for report in reports])[True])"
   ]
  },
  {
   "cell_type": "code",
   "execution_count": 11,
   "id": "e2345d70",
   "metadata": {},
   "outputs": [],
   "source": [
    "update_macro('numreposangularcodecov', Counter([is_active_codecov_repos(report) for report in reports if get_webframework_by_repo_id(report['_id']) == 'Angular'])[True])\n",
    "update_macro('numreposvuecodecov', Counter([is_active_codecov_repos(report) for report in reports if get_webframework_by_repo_id(report['_id']) == 'Vue'])[True])\n",
    "update_macro('numreposreactcodecov', Counter([is_active_codecov_repos(report) for report in reports if get_webframework_by_repo_id(report['_id']) == 'React'])[True])"
   ]
  },
  {
   "cell_type": "code",
   "execution_count": null,
   "id": "d1b7efaf",
   "metadata": {},
   "outputs": [],
   "source": []
  }
 ],
 "metadata": {
  "kernelspec": {
   "display_name": "Python 3 (ipykernel)",
   "language": "python",
   "name": "python3"
  },
  "language_info": {
   "codemirror_mode": {
    "name": "ipython",
    "version": 3
   },
   "file_extension": ".py",
   "mimetype": "text/x-python",
   "name": "python",
   "nbconvert_exporter": "python",
   "pygments_lexer": "ipython3",
   "version": "3.9.7"
  }
 },
 "nbformat": 4,
 "nbformat_minor": 5
}
