{
 "cells": [
  {
   "cell_type": "code",
   "execution_count": null,
   "id": "104ea1c6",
   "metadata": {},
   "outputs": [],
   "source": [
    "import sys\n",
    "sys.path.insert(0, '../ghtesting')\n",
    "\n",
    "from util import *\n",
    "from tqdm.auto import tqdm\n",
    "import json\n",
    "from matplotlib import pyplot as plt\n",
    "import numpy as np\n",
    "import subprocess"
   ]
  },
  {
   "cell_type": "code",
   "execution_count": null,
   "id": "69eb10a4",
   "metadata": {},
   "outputs": [],
   "source": [
    "plt.style.use(['science'])"
   ]
  },
  {
   "cell_type": "code",
   "execution_count": null,
   "id": "cd0df08b",
   "metadata": {},
   "outputs": [],
   "source": [
    "WEBFRAMEWORKS = ['Angular', 'React', 'Vue']\n",
    "COLORS = ['r', 'b', 'g']"
   ]
  },
  {
   "cell_type": "code",
   "execution_count": null,
   "id": "bed1ec61",
   "metadata": {},
   "outputs": [],
   "source": [
    "repos = get_repos()"
   ]
  },
  {
   "cell_type": "code",
   "execution_count": null,
   "id": "3cdd3e27",
   "metadata": {},
   "outputs": [],
   "source": [
    "def get_commit_history(git):\n",
    "    return [log.split()[1] for log in git.git.log().split('\\n') if log.startswith('commit')]\n",
    "\n",
    "def read_file(git, commitid, file):\n",
    "    try:\n",
    "        return git.git.show(f'{commitid}:{file}')\n",
    "    except:\n",
    "        return \"\"\n",
    "\n",
    "def get_ci(readme):\n",
    "    for service_url, service_name in service_urls.items():\n",
    "        if re.search(service_url, readme) is not None:\n",
    "            return service_name"
   ]
  },
  {
   "cell_type": "code",
   "execution_count": null,
   "id": "e09d8948",
   "metadata": {},
   "outputs": [],
   "source": [
    "def has_ci(git, commit_id, ci):\n",
    "    readme = read_file(git, commit_id, 'README.md')\n",
    "    return get_ci(readme) == ci"
   ]
  },
  {
   "cell_type": "code",
   "execution_count": null,
   "id": "f3597b5b",
   "metadata": {},
   "outputs": [],
   "source": [
    "def get_first_ci_commit(git, commit_history, current_ci):\n",
    "    lo = 0\n",
    "    hi = len(commit_history) - 1\n",
    "    while lo < hi - 1:\n",
    "        mid = round((lo + hi) / 2)\n",
    "        if has_ci(git, commit_history[mid], current_ci):\n",
    "            hi = mid\n",
    "        else:\n",
    "            lo = mid\n",
    "    if has_ci(git, commit_history[lo], current_ci): return commit_history[lo]\n",
    "    if has_ci(git, commit_history[mid], current_ci): return commit_history[mid]\n",
    "    if has_ci(git, commit_history[hi], current_ci): return commit_history[hi]"
   ]
  },
  {
   "cell_type": "code",
   "execution_count": null,
   "id": "f483c6ae",
   "metadata": {},
   "outputs": [],
   "source": [
    "with open('../data/ci_introduction_commit.json') as f:\n",
    "    ci_introduction = json.load(f)"
   ]
  },
  {
   "cell_type": "code",
   "execution_count": null,
   "id": "11b1017c",
   "metadata": {},
   "outputs": [],
   "source": [
    "for repo in tqdm(repos):\n",
    "    git = Repo(get_repository_path(repo))\n",
    "    \n",
    "    if repo.name in ci_introduction:\n",
    "        continue\n",
    "    \n",
    "    # get ci from current readme\n",
    "    current_readme = read_file(git, git.active_branch.name, 'README.md')\n",
    "    current_ci = get_ci(current_readme)\n",
    "    \n",
    "    # get reverse commit history\n",
    "    commit_history = get_commit_history(git)\n",
    "    commit_history = commit_history[::-1]\n",
    "    \n",
    "    ci_introduction[repo.name] = get_first_ci_commit(git, commit_history, current_ci)\n",
    "    \n",
    "with open('../data/ci_introduction_commit.json', 'w') as f:\n",
    "    json.dump(ci_introduction, f)"
   ]
  },
  {
   "cell_type": "markdown",
   "id": "16f734e7",
   "metadata": {},
   "source": [
    "## CDF Generation"
   ]
  },
  {
   "cell_type": "markdown",
   "id": "25817f2d",
   "metadata": {},
   "source": [
    "### By Contributors"
   ]
  },
  {
   "cell_type": "code",
   "execution_count": null,
   "id": "17054c22",
   "metadata": {},
   "outputs": [],
   "source": [
    "with open('../data/contributors_ci_introduction.json') as f:\n",
    "    contributors = json.load(f)"
   ]
  },
  {
   "cell_type": "code",
   "execution_count": null,
   "id": "4eabbfa0",
   "metadata": {},
   "outputs": [],
   "source": [
    "for repo in tqdm(repos):\n",
    "    if repo.name in contributors:\n",
    "        continue\n",
    "    git = Repo(get_repository_path(repo))        \n",
    "    commit_id = ci_introduction[repo.name]\n",
    "    contributors[repo.name] = get_contributors_by_commit_id(git, commit_id)\n",
    "    \n",
    "with open('../data/contributors_ci_introduction.json', 'w') as f:\n",
    "    json.dump(contributors, f)"
   ]
  },
  {
   "cell_type": "code",
   "execution_count": null,
   "id": "c1cc1d01",
   "metadata": {},
   "outputs": [],
   "source": [
    "contrib_dist = {}\n",
    "for repo in repos:\n",
    "    wf = get_webframework(repo)\n",
    "    if wf not in contrib_dist:\n",
    "        contrib_dist[wf] = []\n",
    "    contrib_dist[wf].append(len(contributors[repo.name]))"
   ]
  },
  {
   "cell_type": "code",
   "execution_count": null,
   "id": "377996ab",
   "metadata": {},
   "outputs": [],
   "source": [
    "fig, ax = plt.subplots(dpi=300)\n",
    "plt.xscale('log')\n",
    "\n",
    "for wf, color in zip(WEBFRAMEWORKS, COLORS):\n",
    "    x = sorted(contrib_dist[wf])\n",
    "    y = np.linspace(0, 100, len(x))\n",
    "    ax.plot(x, y, label=wf, color=color)\n",
    "\n",
    "ax.set_xlabel(\"\\# of contributors\")\n",
    "ax.set_ylabel(\"\\% of repositories\")\n",
    "ax.legend(loc='lower right')\n",
    "ax.set_ylim([0, 100])\n",
    "fig.show()\n",
    "fig.savefig('../plots/cdf-rq2-contributors.pdf', transparent = True, bbox_inches = 'tight', dpi=300)"
   ]
  },
  {
   "cell_type": "markdown",
   "id": "68a660ea",
   "metadata": {},
   "source": [
    "### By SLOC"
   ]
  },
  {
   "cell_type": "code",
   "execution_count": null,
   "id": "a2974b35",
   "metadata": {},
   "outputs": [],
   "source": [
    "with open('../data/sloc.json') as f:\n",
    "    sloc = json.load(f)"
   ]
  },
  {
   "cell_type": "code",
   "execution_count": null,
   "id": "9f1cf82d",
   "metadata": {},
   "outputs": [],
   "source": [
    "def get_sloc_by_commit_id(repo, commit_id):\n",
    "    repo_path = get_repository_path(repo)\n",
    "    git = Repo(repo_path)\n",
    "    branch = git.active_branch.name\n",
    "    git.git.checkout(commit_id)\n",
    "    proc = subprocess.run(['/home/mharoon/.opt/nodejs/bin/sloc', '-f', 'json', repo_path], stdout=subprocess.PIPE)\n",
    "    git.git.checkout(branch)\n",
    "    try:\n",
    "        return json.loads(proc.stdout)\n",
    "    except:\n",
    "        print(repo.name)\n",
    "        return {}"
   ]
  },
  {
   "cell_type": "code",
   "execution_count": null,
   "id": "ff28f029",
   "metadata": {},
   "outputs": [],
   "source": [
    "for repo in tqdm(repos):\n",
    "    if repo.name in sloc:\n",
    "        continue\n",
    "    sloc[repo.name] = get_sloc_by_commit_id(repo, ci_introduction[repo.name])\n",
    "    \n",
    "with open('../data/sloc.json', 'w') as f:\n",
    "    json.dump(sloc, f)"
   ]
  },
  {
   "cell_type": "code",
   "execution_count": null,
   "id": "2e6aae46",
   "metadata": {},
   "outputs": [],
   "source": [
    "def get_sloc(repo):\n",
    "    if repo.name in sloc:\n",
    "        if 'summary' in sloc[repo.name]:\n",
    "            if 'total' in sloc[repo.name]['summary']:\n",
    "                return sloc[repo.name]['summary']['total']\n",
    "            return 0\n",
    "    return None"
   ]
  },
  {
   "cell_type": "code",
   "execution_count": null,
   "id": "35b95013",
   "metadata": {},
   "outputs": [],
   "source": [
    "distributions = {}\n",
    "for repo in tqdm(repos):\n",
    "    wf = get_webframework(repo)\n",
    "    git = Repo(get_repository_path(repo))\n",
    "\n",
    "    if wf not in distributions:\n",
    "        distributions[wf] = []\n",
    "    \n",
    "    loc = get_sloc(repo)\n",
    "    if loc is not None:\n",
    "        distributions[wf].append(loc)"
   ]
  },
  {
   "cell_type": "code",
   "execution_count": null,
   "id": "bc4fee60",
   "metadata": {},
   "outputs": [],
   "source": [
    "fig, ax = plt.subplots(dpi=300)\n",
    "plt.xscale('log')\n",
    "\n",
    "for wf, color in zip(WEBFRAMEWORKS, COLORS):\n",
    "    x = sorted(distributions[wf])\n",
    "    y = np.linspace(0, 100, len(x))\n",
    "    ax.plot(x, y, label=wf, color=color)\n",
    "\n",
    "ax.set_xlabel(\"SLOC\")\n",
    "ax.set_ylabel(\"\\% of repositories\")\n",
    "ax.set_ylim([0, 100])\n",
    "ax.legend(loc='lower right')\n",
    "fig.show()\n",
    "fig.savefig('../plots/cdf-rq2-sloc.pdf', transparent = True, bbox_inches = 'tight', dpi=300)"
   ]
  },
  {
   "cell_type": "code",
   "execution_count": null,
   "id": "404fd5de",
   "metadata": {},
   "outputs": [],
   "source": []
  }
 ],
 "metadata": {
  "kernelspec": {
   "display_name": "Python 3 (ipykernel)",
   "language": "python",
   "name": "python3"
  },
  "language_info": {
   "codemirror_mode": {
    "name": "ipython",
    "version": 3
   },
   "file_extension": ".py",
   "mimetype": "text/x-python",
   "name": "python",
   "nbconvert_exporter": "python",
   "pygments_lexer": "ipython3",
   "version": "3.9.7"
  }
 },
 "nbformat": 4,
 "nbformat_minor": 5
}
