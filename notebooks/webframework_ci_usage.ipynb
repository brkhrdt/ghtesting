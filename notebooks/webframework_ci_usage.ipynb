{
 "cells": [
  {
   "cell_type": "code",
   "execution_count": null,
   "id": "a97ed373",
   "metadata": {},
   "outputs": [],
   "source": [
    "import sys\n",
    "import os\n",
    "sys.path.insert(0, '../ghtesting')\n",
    "\n",
    "import matplotlib.pyplot as plt\n",
    "import pandas as pd\n",
    "from ghdatabase import GHDatabase\n",
    "from ghrepo import GHRepo\n",
    "import numpy as np"
   ]
  },
  {
   "cell_type": "code",
   "execution_count": null,
   "id": "3c2ef365",
   "metadata": {},
   "outputs": [],
   "source": [
    "plt.style.use(['science'])"
   ]
  },
  {
   "cell_type": "code",
   "execution_count": null,
   "id": "d31cd05f",
   "metadata": {},
   "outputs": [],
   "source": [
    "db = GHDatabase('ecs260', 'webframework_repos', os.environ['CONNECTION_STRING'])\n",
    "\n",
    "repos = list(db.get_repos())\n",
    "\n",
    "num_repos = len(repos)\n",
    "print(f'Number of repos: {num_repos}')"
   ]
  },
  {
   "cell_type": "code",
   "execution_count": null,
   "id": "0ad4e96e",
   "metadata": {},
   "outputs": [],
   "source": [
    "rows = []\n",
    "\n",
    "for repojson in repos:\n",
    "    repo = GHRepo(repojson)\n",
    "#     print(repo.url)\n",
    "#     print(repo.badges[0])\n",
    "    new_row = dict()\n",
    "    new_row['name'] = repo.name\n",
    "    for b in repo.badges[0]:\n",
    "        new_row[b] = True\n",
    "    rows.append(new_row)\n",
    "    \n",
    "df = pd.DataFrame(rows)\n",
    "df = df.fillna(False).replace(1.0, True)\n",
    "df"
   ]
  },
  {
   "cell_type": "code",
   "execution_count": null,
   "id": "48509cbe",
   "metadata": {},
   "outputs": [],
   "source": [
    "fig, ax = plt.subplots(dpi=300)\n",
    "\n",
    "repo_cis_series = df[df.columns[1:]].sum(axis=1).sort_values(ascending=False).value_counts().astype(int)\n",
    "\n",
    "\n",
    "ci_redun_plot = repo_cis_series.plot.bar(#title='CI Service Redundancy',\n",
    "    ylabel='Number of projects'\n",
    "    , xlabel='Number of enabled CI services'\n",
    "    , logy=True\n",
    "    , ax=ax)\n",
    "\n",
    "ax.set_ylim([0, repo_cis_series.max() + 5000])\n",
    "ci_redun_plot.bar_label(ci_redun_plot.containers[0])\n",
    "\n",
    "fig.savefig('../plots/ci-service-redundancy.pdf', transparent = True, bbox_inches = 'tight', dpi=300)"
   ]
  },
  {
   "cell_type": "code",
   "execution_count": null,
   "id": "29f7db05",
   "metadata": {},
   "outputs": [],
   "source": [
    "fig, ax = plt.subplots(dpi=300)\n",
    "ci_series = df[df.columns[1:]].sum().sort_values(ascending=False)\n",
    "ci_series['other'] = 0\n",
    "for idx, val in ci_series.items():\n",
    "    if idx == 'other':\n",
    "        continue\n",
    "    if val < 50:\n",
    "        ci_series['other'] = ci_series['other'] + val\n",
    "        ci_series.drop(idx, inplace=True)\n",
    "\n",
    "ci_series.plot.pie(#     title='CI Service Usage',\n",
    "                ylabel=''\n",
    "               , figsize=(6,6)\n",
    "               , legend=False\n",
    "               , ax=ax\n",
    "               , autopct='%1.2f\\%%')\n",
    "\n",
    "centre_circle = plt.Circle((0,0),0.70,fc='white')\n",
    "fig.gca().add_artist(centre_circle)\n",
    "\n",
    "\n",
    "\n",
    "fig.savefig('../plots/ci-service-usage.pdf', transparent = True, bbox_inches = 'tight', pad=0, dpi=300)"
   ]
  },
  {
   "cell_type": "code",
   "execution_count": null,
   "id": "f4a6cc2c",
   "metadata": {},
   "outputs": [],
   "source": [
    "langs = []\n",
    "for repojson in repos:\n",
    "    repo = GHRepo(repojson)\n",
    "#     print(repo.url)\n",
    "#     print(repo.badges[0])\n",
    "    new_row = dict()\n",
    "    new_row['name'] = repo.name\n",
    "    l = repo.primarylanguage\n",
    "    new_row[l] = True\n",
    "    langs_df = langs.append(new_row)\n",
    "    \n",
    "langs_df = pd.DataFrame(langs)\n",
    "langs_df = langs_df.fillna(False).replace(1.0, True)\n",
    "langs_df"
   ]
  },
  {
   "cell_type": "code",
   "execution_count": null,
   "id": "e5fbb079",
   "metadata": {},
   "outputs": [],
   "source": [
    "fig, ax = plt.subplots(dpi=300)\n",
    "\n",
    "lang_series = langs_df[langs_df.columns[1:]].sum().sort_values(ascending=False)\n",
    "lang_series['other'] = 0\n",
    "for idx, val in lang_series.items():\n",
    "    if idx == 'other':\n",
    "        continue\n",
    "    if val < 75:\n",
    "        lang_series['other'] = lang_series['other'] + val\n",
    "        lang_series.drop(idx, inplace=True)\n",
    "\n",
    "lang_plot = lang_series.plot.bar(#title='Project Primary Language',\n",
    "               ylabel='Number of projects'\n",
    "               , xlabel='Primary Language'\n",
    "#                , figsize=(6,6)\n",
    "               , logy=True\n",
    "               , ax=ax\n",
    "               , legend=False)\n",
    "\n",
    "ax.set_ylim([0, lang_series.max() + 10000])\n",
    "lang_plot.bar_label(lang_plot.containers[0])\n",
    "\n",
    "fig.savefig('../plots/project-primary-language.pdf', transparent = True, bbox_inches = 'tight', dpi=300)"
   ]
  },
  {
   "cell_type": "code",
   "execution_count": null,
   "id": "a05cdec1",
   "metadata": {},
   "outputs": [],
   "source": [
    "topics = []\n",
    "for repojson in repos:\n",
    "    repo = GHRepo(repojson)\n",
    "#     print(repo.url)\n",
    "#     print(repo.badges[0])\n",
    "    new_row = dict()\n",
    "    new_row['name'] = repo.name\n",
    "    webtopics = ['angular', 'react', 'vue']\n",
    "    for t in webtopics:\n",
    "        if t in repo.topics:\n",
    "            new_row[t] = True\n",
    "    topics_df = topics.append(new_row)\n",
    "\n",
    "topics_df = pd.DataFrame(topics)\n",
    "topics_df = topics_df.fillna(False).replace(1.0, True)\n",
    "topics_df"
   ]
  },
  {
   "cell_type": "code",
   "execution_count": null,
   "id": "17a334d5",
   "metadata": {},
   "outputs": [],
   "source": [
    "from matplotlib_venn import venn3\n",
    "webtopics = ['angular', 'react', 'vue']\n",
    "\n",
    "t_df=topics_df.drop('name', axis=1).groupby(webtopics, as_index=False).size()\n",
    "t_df"
   ]
  },
  {
   "cell_type": "code",
   "execution_count": null,
   "id": "519f91ed",
   "metadata": {},
   "outputs": [],
   "source": [
    "fig, ax = plt.subplots(dpi=300)\n",
    "# https://towardsdatascience.com/professional-venn-diagrams-in-python-638abfff39cc\n",
    "# https://pypi.org/project/matplotlib-venn/\n",
    "sets = tuple(t_df['size'])\n",
    "\n",
    "# print(sets)\n",
    "# plt.title('Projects with Web Framework Topics')\n",
    "venn3(subsets = sets\n",
    "      , set_labels = ('Vue', 'React', 'Angular'), ax=ax)\n",
    "\n",
    "fig.savefig('../plots/project-webframework-venn.pdf', transparent = True, bbox_inches = 'tight', dpi=300)"
   ]
  },
  {
   "cell_type": "code",
   "execution_count": null,
   "id": "f8a4bb2a",
   "metadata": {},
   "outputs": [],
   "source": [
    "topicci = []\n",
    "webtopics = ['angular', 'react', 'vue']\n",
    "for t in webtopics:\n",
    "    new_row = dict()\n",
    "    new_row['framework'] = t\n",
    "    for repojson in repos:\n",
    "        repo = GHRepo(repojson)\n",
    "        if t not in repo.topics:\n",
    "            continue\n",
    "    #     print(repo.url)\n",
    "    #     print(repo.badges[0])\n",
    "\n",
    "        for b in repo.badges[0]:\n",
    "            new_row[b] = new_row.get(b, 0) + 1\n",
    "\n",
    "    topicci_df = topicci.append(new_row)\n",
    "    \n",
    "topicci_df = pd.DataFrame(topicci)    \n",
    "topicci_df = topicci_df.fillna(0)\n",
    "topicci_df"
   ]
  },
  {
   "cell_type": "code",
   "execution_count": null,
   "id": "b7b1ef0e",
   "metadata": {},
   "outputs": [],
   "source": [
    "topicci_dfT = topicci_df.set_index('framework').T"
   ]
  },
  {
   "cell_type": "code",
   "execution_count": null,
   "id": "a73a04b7",
   "metadata": {},
   "outputs": [],
   "source": [
    "topiccipct_df = pd.DataFrame()\n",
    "topiccipct_df['Angular'] = topicci_dfT['angular'] / topicci_dfT['angular'].sum()\n",
    "topiccipct_df['React'] = topicci_dfT['react'] / topicci_dfT['react'].sum()\n",
    "topiccipct_df['Vue'] = topicci_dfT['vue'] / topicci_dfT['vue'].sum()"
   ]
  },
  {
   "cell_type": "code",
   "execution_count": null,
   "id": "4989fca2",
   "metadata": {},
   "outputs": [],
   "source": [
    "topiccipct_df = topiccipct_df.reindex(['travisci', 'github', 'circleci', 'appveyorci', 'azure_pipelines'])"
   ]
  },
  {
   "cell_type": "code",
   "execution_count": null,
   "id": "e79521d2",
   "metadata": {},
   "outputs": [],
   "source": [
    "fig, ax = plt.subplots(dpi=300)\n",
    "\n",
    "ax.bar(np.arange(5), topiccipct_df['Angular'], label='Angular', color='red', width=0.25)\n",
    "ax.bar(np.arange(5) + 0.5, topiccipct_df['React'], label='React', color='blue', width=0.25)\n",
    "ax.bar(np.arange(5) + 0.25, topiccipct_df['Vue'], label='Vue', color='green', width=0.25)\n",
    "\n",
    "ax.set_ylim([0, 1])\n",
    "ax.set_xticks([0.25, 1.25, 2.25,3.25,4.25])\n",
    "ax.set_xticklabels(topiccipct_df.index, rotation=15)\n",
    "\n",
    "ax.legend()\n",
    "fig.show()\n",
    "fig.savefig('../plots/webframework-ci-preference.pdf', transparent = True, bbox_inches = 'tight', dpi=300)"
   ]
  },
  {
   "cell_type": "code",
   "execution_count": null,
   "id": "9b0bb8a9",
   "metadata": {},
   "outputs": [],
   "source": [
    "topic_ci_en = []\n",
    "webtopics = ['angular', 'react', 'vue']\n",
    "for t in webtopics:\n",
    "    new_row = dict()\n",
    "    new_row['framework'] = t\n",
    "    for repojson in repos:\n",
    "        repo = GHRepo(repojson)\n",
    "        if t not in repo.topics:\n",
    "            continue\n",
    "    #     print(repo.url)\n",
    "    #     print(repo.badges[0])\n",
    "        if len(list(repo.badges[0])) > 0:\n",
    "            new_row['has_ci'] = new_row.get('has_ci', 0) + 1\n",
    "        else:\n",
    "            new_row['no_ci'] = new_row.get('no_ci', 0) + 1\n",
    "\n",
    "\n",
    "    topic_ci_en.append(new_row)\n",
    "    \n",
    "    \n",
    "topic_ci_en_df = pd.DataFrame(topic_ci_en)\n",
    "topic_ci_en_df = topic_ci_en_df.fillna(0)\n",
    "topic_ci_en_df = topic_ci_en_df.set_index('framework').T\n",
    "topic_ci_en_df"
   ]
  },
  {
   "cell_type": "code",
   "execution_count": null,
   "id": "9ff67385",
   "metadata": {},
   "outputs": [],
   "source": [
    "topic_ci_en_pct_df = pd.DataFrame()\n",
    "topic_ci_en_pct_df['Angular'] = topic_ci_en_df['angular']['has_ci'] / topic_ci_en_df['angular'].sum()\n",
    "topic_ci_en_pct_df['React'] = topic_ci_en_df['react']['has_ci'] / topic_ci_en_df['react'].sum()\n",
    "topic_ci_en_pct_df['Vue'] = topic_ci_en_df['vue']['has_ci'] / topic_ci_en_df['vue'].sum()\n",
    "\n",
    "# topiccipct_df['React'] = topicci_dfT['react'] / topicci_dfT['react'].sum()\n",
    "# topiccipct_df['Vue'] = topicci_dfT['vue'] / topicci_dfT['vue'].sum() \n",
    "topic_ci_en_pct_df"
   ]
  },
  {
   "cell_type": "code",
   "execution_count": null,
   "id": "24f5aaec",
   "metadata": {},
   "outputs": [],
   "source": [
    "print(topic_ci_en_df['angular']['has_ci'] / topic_ci_en_df['angular'].sum())\n",
    "print(topic_ci_en_df['react']['has_ci'] / topic_ci_en_df['react'].sum())\n",
    "print(topic_ci_en_df['vue']['has_ci'] / topic_ci_en_df['vue'].sum())"
   ]
  },
  {
   "cell_type": "code",
   "execution_count": null,
   "id": "e3bb1773",
   "metadata": {},
   "outputs": [],
   "source": []
  },
  {
   "cell_type": "code",
   "execution_count": null,
   "id": "32e6c392",
   "metadata": {},
   "outputs": [],
   "source": []
  }
 ],
 "metadata": {
  "kernelspec": {
   "display_name": "Python 3 (ipykernel)",
   "language": "python",
   "name": "python3"
  },
  "language_info": {
   "codemirror_mode": {
    "name": "ipython",
    "version": 3
   },
   "file_extension": ".py",
   "mimetype": "text/x-python",
   "name": "python",
   "nbconvert_exporter": "python",
   "pygments_lexer": "ipython3",
   "version": "3.9.7"
  }
 },
 "nbformat": 4,
 "nbformat_minor": 5
}
