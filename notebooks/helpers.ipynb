{
 "cells": [
  {
   "cell_type": "code",
   "execution_count": null,
   "id": "9a2d33e0",
   "metadata": {},
   "outputs": [],
   "source": [
    "import json\n",
    "import sys\n",
    "import os\n",
    "sys.path.insert(0, '../ghtesting')\n",
    "\n",
    "import pandas as pd\n",
    "from ghdatabase import GHDatabase\n",
    "from ghrepo import GHRepo\n",
    "from tqdm.auto import tqdm\n",
    "from datetime import datetime\n",
    "from git import Repo\n",
    "import pickle\n",
    "import re\n",
    "from collections import Counter"
   ]
  },
  {
   "cell_type": "code",
   "execution_count": null,
   "id": "ded0a79a",
   "metadata": {},
   "outputs": [],
   "source": [
    "with open('../data/final_reports.pickle', 'rb') as f:\n",
    "    final_reports = pickle.load(f)\n",
    "\n",
    "def get_repository_path(repo):\n",
    "    return os.path.join('repositories', repo.name.split('/')[1])\n",
    "    \n",
    "def get_repos():\n",
    "    # get list of repos\n",
    "    db = GHDatabase('ecs260', 'webframework_repos', os.environ['CONNECTION_STRING'])\n",
    "    repos = [GHRepo(i) for i in db.get_repos()]\n",
    "    repos = [repo for repo in repos if repo.name in final_reports]\n",
    "    return repos\n",
    "\n",
    "def get_webframework(repo):\n",
    "    if 'angular' in repo.topics:\n",
    "        return 'Angular'\n",
    "    if 'vue' in repo.topics:\n",
    "        return 'Vue'\n",
    "    if 'react' in repo.topics:\n",
    "        return 'React'\n",
    "\n",
    "def get_contributors(repo, report):\n",
    "    git = Repo(get_repository_path(repo))\n",
    "    branch = git.active_branch.name\n",
    "    print(report['commitid'])\n",
    "    git.git.checkout(report['commitid'])\n",
    "    log = git.git.log()\n",
    "    authors = [i.strip() for i in re.findall(r'Author: (.*)?<.*?>\\n', log)]\n",
    "    git.git.checkout(branch)\n",
    "    return Counter(authors)\n",
    "\n",
    "def get_branch(repo):\n",
    "    return Repo(get_repository_path(repo)).active_branch.name\n",
    "\n",
    "def get_reports(repo):\n",
    "    # get reports only for the main branch\n",
    "    main_branch = get_branch(repo)\n",
    "    main_reports = [r for r in repo.codecov_reports if r['branch'] == main_branch]\n",
    "        \n",
    "    # sort by timestamp\n",
    "    strptime = lambda x : datetime.strptime(x['timestamp'].split('.')[0], '%Y-%m-%d %H:%M:%S')\n",
    "    return sorted(main_reports, key=strptime)\n",
    "\n",
    "def get_earliest_report(repo):\n",
    "    return final_reports[repo.name]['earliest']\n",
    "\n",
    "def get_latest_report(repo):\n",
    "    return final_reports[repo.name]['latest']\n",
    "\n",
    "def get_metrics(report):\n",
    "    metric_map = dict(\n",
    "        coverage = 'c',\n",
    "        files = 'f',\n",
    "        lines = 'n',\n",
    "        hits = 'h',\n",
    "        missed = 'm',\n",
    "        partials = 'p',\n",
    "        branches = 'b',\n",
    "        messages = 'M',\n",
    "        sessions = 's'\n",
    "    )\n",
    "    totals = report['totals']\n",
    "    metrics = {}\n",
    "    for k, v in metric_map.items():\n",
    "        metrics[k] = totals[v]\n",
    "    return metrics"
   ]
  },
  {
   "cell_type": "code",
   "execution_count": null,
   "id": "e1745dc0",
   "metadata": {},
   "outputs": [],
   "source": [
    "repos = get_repos()"
   ]
  },
  {
   "cell_type": "code",
   "execution_count": null,
   "id": "7dad3ead",
   "metadata": {},
   "outputs": [],
   "source": [
    "for repo in repos:\n",
    "    latest = get_latest_report(repo)\n",
    "    earliest = get_earliest_report(repo)\n",
    "    \n",
    "    if latest is None or earliest is None:\n",
    "        continue\n",
    "\n",
    "    print(repo.name)\n",
    "    \n",
    "    print(\"Web framework:\", get_webframework(repo))\n",
    "    print(\"Main branch:\", get_branch(repo))\n",
    "    \n",
    "    \n",
    "    print(\"Latest report:\", latest['timestamp'])\n",
    "    print(\"Contributors:\", len(get_contributors(repo, latest)))\n",
    "    print(\"Earliest report:\", earliest['timestamp'])\n",
    "    print(\"Contributors:\", len(get_contributors(repo, earliest)))\n",
    "\n",
    "    print()"
   ]
  },
  {
   "cell_type": "code",
   "execution_count": null,
   "id": "67f8a55d",
   "metadata": {},
   "outputs": [],
   "source": [
    "get_metrics(get_latest_report(repos[1]))"
   ]
  },
  {
   "cell_type": "code",
   "execution_count": null,
   "id": "f117c5c5",
   "metadata": {},
   "outputs": [],
   "source": [
    "get_metrics(get_earliest_report(repos[1]))"
   ]
  },
  {
   "cell_type": "code",
   "execution_count": null,
   "id": "224d63ee",
   "metadata": {},
   "outputs": [],
   "source": []
  }
 ],
 "metadata": {
  "kernelspec": {
   "display_name": "Python 3 (ipykernel)",
   "language": "python",
   "name": "python3"
  },
  "language_info": {
   "codemirror_mode": {
    "name": "ipython",
    "version": 3
   },
   "file_extension": ".py",
   "mimetype": "text/x-python",
   "name": "python",
   "nbconvert_exporter": "python",
   "pygments_lexer": "ipython3",
   "version": "3.9.7"
  }
 },
 "nbformat": 4,
 "nbformat_minor": 5
}
