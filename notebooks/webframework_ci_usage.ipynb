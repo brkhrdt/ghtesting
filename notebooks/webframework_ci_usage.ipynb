{
 "cells": [
  {
   "cell_type": "code",
   "execution_count": 1,
   "id": "a97ed373",
   "metadata": {},
   "outputs": [],
   "source": [
    "import sys\n",
    "import os\n",
    "sys.path.insert(0, '../ghtesting')\n",
    "\n",
    "import matplotlib.pyplot as plt\n",
    "import pandas as pd\n",
    "from ghdatabase import GHDatabase\n",
    "from ghrepo import GHRepo"
   ]
  },
  {
   "cell_type": "code",
   "execution_count": 2,
   "id": "3c2ef365",
   "metadata": {},
   "outputs": [],
   "source": [
    "plt.style.use(['science'])"
   ]
  },
  {
   "cell_type": "code",
   "execution_count": 3,
   "id": "d31cd05f",
   "metadata": {},
   "outputs": [
    {
     "ename": "ServerSelectionTimeoutError",
     "evalue": "localhost:27017: [Errno 111] Connection refused, Timeout: 30s, Topology Description: <TopologyDescription id: 619da73ee5fc333959ff5aa8, topology_type: Single, servers: [<ServerDescription ('localhost', 27017) server_type: Unknown, rtt: None, error=AutoReconnect('localhost:27017: [Errno 111] Connection refused')>]>",
     "output_type": "error",
     "traceback": [
      "\u001b[0;31m---------------------------------------------------------------------------\u001b[0m",
      "\u001b[0;31mServerSelectionTimeoutError\u001b[0m               Traceback (most recent call last)",
      "\u001b[0;32m/tmp/ipykernel_3173234/776156666.py\u001b[0m in \u001b[0;36m<module>\u001b[0;34m\u001b[0m\n\u001b[0;32m----> 1\u001b[0;31m \u001b[0mdb\u001b[0m \u001b[0;34m=\u001b[0m \u001b[0mGHDatabase\u001b[0m\u001b[0;34m(\u001b[0m\u001b[0;34m'ecs260'\u001b[0m\u001b[0;34m,\u001b[0m \u001b[0;34m'webframework_repos'\u001b[0m\u001b[0;34m)\u001b[0m\u001b[0;34m\u001b[0m\u001b[0;34m\u001b[0m\u001b[0m\n\u001b[0m\u001b[1;32m      2\u001b[0m \u001b[0;34m\u001b[0m\u001b[0m\n\u001b[1;32m      3\u001b[0m \u001b[0mrepos\u001b[0m \u001b[0;34m=\u001b[0m \u001b[0mlist\u001b[0m\u001b[0;34m(\u001b[0m\u001b[0mdb\u001b[0m\u001b[0;34m.\u001b[0m\u001b[0mget_repos\u001b[0m\u001b[0;34m(\u001b[0m\u001b[0;34m)\u001b[0m\u001b[0;34m)\u001b[0m\u001b[0;34m\u001b[0m\u001b[0;34m\u001b[0m\u001b[0m\n\u001b[1;32m      4\u001b[0m \u001b[0;34m\u001b[0m\u001b[0m\n\u001b[1;32m      5\u001b[0m \u001b[0mnum_repos\u001b[0m \u001b[0;34m=\u001b[0m \u001b[0mlen\u001b[0m\u001b[0;34m(\u001b[0m\u001b[0mrepos\u001b[0m\u001b[0;34m)\u001b[0m\u001b[0;34m\u001b[0m\u001b[0;34m\u001b[0m\u001b[0m\n",
      "\u001b[0;32m~/Desktop/testing-on-github/notebooks/../ghtesting/ghdatabase.py\u001b[0m in \u001b[0;36m__init__\u001b[0;34m(self, db, collection, connectionString)\u001b[0m\n\u001b[1;32m      6\u001b[0m         \u001b[0mself\u001b[0m\u001b[0;34m.\u001b[0m\u001b[0mclient\u001b[0m \u001b[0;34m=\u001b[0m \u001b[0mpymongo\u001b[0m\u001b[0;34m.\u001b[0m\u001b[0mMongoClient\u001b[0m\u001b[0;34m(\u001b[0m\u001b[0mconnectionString\u001b[0m\u001b[0;34m)\u001b[0m\u001b[0;34m\u001b[0m\u001b[0;34m\u001b[0m\u001b[0m\n\u001b[1;32m      7\u001b[0m         \u001b[0mself\u001b[0m\u001b[0;34m.\u001b[0m\u001b[0mdb\u001b[0m \u001b[0;34m=\u001b[0m \u001b[0mself\u001b[0m\u001b[0;34m.\u001b[0m\u001b[0mclient\u001b[0m\u001b[0;34m[\u001b[0m\u001b[0mdb\u001b[0m\u001b[0;34m]\u001b[0m\u001b[0;34m\u001b[0m\u001b[0;34m\u001b[0m\u001b[0m\n\u001b[0;32m----> 8\u001b[0;31m         \u001b[0;32mif\u001b[0m \u001b[0mcollection\u001b[0m \u001b[0;32mnot\u001b[0m \u001b[0;32min\u001b[0m \u001b[0mself\u001b[0m\u001b[0;34m.\u001b[0m\u001b[0mdb\u001b[0m\u001b[0;34m.\u001b[0m\u001b[0mlist_collection_names\u001b[0m\u001b[0;34m(\u001b[0m\u001b[0;34m)\u001b[0m\u001b[0;34m:\u001b[0m\u001b[0;34m\u001b[0m\u001b[0;34m\u001b[0m\u001b[0m\n\u001b[0m\u001b[1;32m      9\u001b[0m             \u001b[0mself\u001b[0m\u001b[0;34m.\u001b[0m\u001b[0mdb\u001b[0m\u001b[0;34m.\u001b[0m\u001b[0mcreate_collection\u001b[0m\u001b[0;34m(\u001b[0m\u001b[0mcollection\u001b[0m\u001b[0;34m,\u001b[0m \u001b[0mcapped\u001b[0m\u001b[0;34m=\u001b[0m\u001b[0;32mFalse\u001b[0m\u001b[0;34m)\u001b[0m \u001b[0;31m# unlimited documents\u001b[0m\u001b[0;34m\u001b[0m\u001b[0;34m\u001b[0m\u001b[0m\n\u001b[1;32m     10\u001b[0m         \u001b[0mself\u001b[0m\u001b[0;34m.\u001b[0m\u001b[0mcol\u001b[0m \u001b[0;34m=\u001b[0m \u001b[0mself\u001b[0m\u001b[0;34m.\u001b[0m\u001b[0mdb\u001b[0m\u001b[0;34m[\u001b[0m\u001b[0mcollection\u001b[0m\u001b[0;34m]\u001b[0m\u001b[0;34m\u001b[0m\u001b[0;34m\u001b[0m\u001b[0m\n",
      "\u001b[0;32m~/.opt/miniconda3/envs/ecs260/lib/python3.9/site-packages/pymongo/database.py\u001b[0m in \u001b[0;36mlist_collection_names\u001b[0;34m(self, session, filter, **kwargs)\u001b[0m\n\u001b[1;32m    884\u001b[0m \u001b[0;34m\u001b[0m\u001b[0m\n\u001b[1;32m    885\u001b[0m         return [result[\"name\"]\n\u001b[0;32m--> 886\u001b[0;31m                 for result in self.list_collections(session=session, **kwargs)]\n\u001b[0m\u001b[1;32m    887\u001b[0m \u001b[0;34m\u001b[0m\u001b[0m\n\u001b[1;32m    888\u001b[0m     def collection_names(self, include_system_collections=True,\n",
      "\u001b[0;32m~/.opt/miniconda3/envs/ecs260/lib/python3.9/site-packages/pymongo/database.py\u001b[0m in \u001b[0;36mlist_collections\u001b[0;34m(self, session, filter, **kwargs)\u001b[0m\n\u001b[1;32m    846\u001b[0m                 **kwargs)\n\u001b[1;32m    847\u001b[0m \u001b[0;34m\u001b[0m\u001b[0m\n\u001b[0;32m--> 848\u001b[0;31m         return self.__client._retryable_read(\n\u001b[0m\u001b[1;32m    849\u001b[0m             _cmd, read_pref, session)\n\u001b[1;32m    850\u001b[0m \u001b[0;34m\u001b[0m\u001b[0m\n",
      "\u001b[0;32m~/.opt/miniconda3/envs/ecs260/lib/python3.9/site-packages/pymongo/mongo_client.py\u001b[0m in \u001b[0;36m_retryable_read\u001b[0;34m(self, func, read_pref, session, address, retryable)\u001b[0m\n\u001b[1;32m   1512\u001b[0m         \u001b[0;32mwhile\u001b[0m \u001b[0;32mTrue\u001b[0m\u001b[0;34m:\u001b[0m\u001b[0;34m\u001b[0m\u001b[0;34m\u001b[0m\u001b[0m\n\u001b[1;32m   1513\u001b[0m             \u001b[0;32mtry\u001b[0m\u001b[0;34m:\u001b[0m\u001b[0;34m\u001b[0m\u001b[0;34m\u001b[0m\u001b[0m\n\u001b[0;32m-> 1514\u001b[0;31m                 server = self._select_server(\n\u001b[0m\u001b[1;32m   1515\u001b[0m                     read_pref, session, address=address)\n\u001b[1;32m   1516\u001b[0m                 \u001b[0;32mif\u001b[0m \u001b[0;32mnot\u001b[0m \u001b[0mserver\u001b[0m\u001b[0;34m.\u001b[0m\u001b[0mdescription\u001b[0m\u001b[0;34m.\u001b[0m\u001b[0mretryable_reads_supported\u001b[0m\u001b[0;34m:\u001b[0m\u001b[0;34m\u001b[0m\u001b[0;34m\u001b[0m\u001b[0m\n",
      "\u001b[0;32m~/.opt/miniconda3/envs/ecs260/lib/python3.9/site-packages/pymongo/mongo_client.py\u001b[0m in \u001b[0;36m_select_server\u001b[0;34m(self, server_selector, session, address)\u001b[0m\n\u001b[1;32m   1344\u001b[0m                                         % address)\n\u001b[1;32m   1345\u001b[0m             \u001b[0;32melse\u001b[0m\u001b[0;34m:\u001b[0m\u001b[0;34m\u001b[0m\u001b[0;34m\u001b[0m\u001b[0m\n\u001b[0;32m-> 1346\u001b[0;31m                 \u001b[0mserver\u001b[0m \u001b[0;34m=\u001b[0m \u001b[0mtopology\u001b[0m\u001b[0;34m.\u001b[0m\u001b[0mselect_server\u001b[0m\u001b[0;34m(\u001b[0m\u001b[0mserver_selector\u001b[0m\u001b[0;34m)\u001b[0m\u001b[0;34m\u001b[0m\u001b[0;34m\u001b[0m\u001b[0m\n\u001b[0m\u001b[1;32m   1347\u001b[0m             \u001b[0;32mreturn\u001b[0m \u001b[0mserver\u001b[0m\u001b[0;34m\u001b[0m\u001b[0;34m\u001b[0m\u001b[0m\n\u001b[1;32m   1348\u001b[0m         \u001b[0;32mexcept\u001b[0m \u001b[0mPyMongoError\u001b[0m \u001b[0;32mas\u001b[0m \u001b[0mexc\u001b[0m\u001b[0;34m:\u001b[0m\u001b[0;34m\u001b[0m\u001b[0;34m\u001b[0m\u001b[0m\n",
      "\u001b[0;32m~/.opt/miniconda3/envs/ecs260/lib/python3.9/site-packages/pymongo/topology.py\u001b[0m in \u001b[0;36mselect_server\u001b[0;34m(self, selector, server_selection_timeout, address)\u001b[0m\n\u001b[1;32m    242\u001b[0m                       address=None):\n\u001b[1;32m    243\u001b[0m         \u001b[0;34m\"\"\"Like select_servers, but choose a random server if several match.\"\"\"\u001b[0m\u001b[0;34m\u001b[0m\u001b[0;34m\u001b[0m\u001b[0m\n\u001b[0;32m--> 244\u001b[0;31m         return random.choice(self.select_servers(selector,\n\u001b[0m\u001b[1;32m    245\u001b[0m                                                  \u001b[0mserver_selection_timeout\u001b[0m\u001b[0;34m,\u001b[0m\u001b[0;34m\u001b[0m\u001b[0;34m\u001b[0m\u001b[0m\n\u001b[1;32m    246\u001b[0m                                                  address))\n",
      "\u001b[0;32m~/.opt/miniconda3/envs/ecs260/lib/python3.9/site-packages/pymongo/topology.py\u001b[0m in \u001b[0;36mselect_servers\u001b[0;34m(self, selector, server_selection_timeout, address)\u001b[0m\n\u001b[1;32m    200\u001b[0m \u001b[0;34m\u001b[0m\u001b[0m\n\u001b[1;32m    201\u001b[0m         \u001b[0;32mwith\u001b[0m \u001b[0mself\u001b[0m\u001b[0;34m.\u001b[0m\u001b[0m_lock\u001b[0m\u001b[0;34m:\u001b[0m\u001b[0;34m\u001b[0m\u001b[0;34m\u001b[0m\u001b[0m\n\u001b[0;32m--> 202\u001b[0;31m             server_descriptions = self._select_servers_loop(\n\u001b[0m\u001b[1;32m    203\u001b[0m                 selector, server_timeout, address)\n\u001b[1;32m    204\u001b[0m \u001b[0;34m\u001b[0m\u001b[0m\n",
      "\u001b[0;32m~/.opt/miniconda3/envs/ecs260/lib/python3.9/site-packages/pymongo/topology.py\u001b[0m in \u001b[0;36m_select_servers_loop\u001b[0;34m(self, selector, timeout, address)\u001b[0m\n\u001b[1;32m    216\u001b[0m             \u001b[0;31m# No suitable servers.\u001b[0m\u001b[0;34m\u001b[0m\u001b[0;34m\u001b[0m\u001b[0m\n\u001b[1;32m    217\u001b[0m             \u001b[0;32mif\u001b[0m \u001b[0mtimeout\u001b[0m \u001b[0;34m==\u001b[0m \u001b[0;36m0\u001b[0m \u001b[0;32mor\u001b[0m \u001b[0mnow\u001b[0m \u001b[0;34m>\u001b[0m \u001b[0mend_time\u001b[0m\u001b[0;34m:\u001b[0m\u001b[0;34m\u001b[0m\u001b[0;34m\u001b[0m\u001b[0m\n\u001b[0;32m--> 218\u001b[0;31m                 raise ServerSelectionTimeoutError(\n\u001b[0m\u001b[1;32m    219\u001b[0m                     \u001b[0;34m\"%s, Timeout: %ss, Topology Description: %r\"\u001b[0m \u001b[0;34m%\u001b[0m\u001b[0;34m\u001b[0m\u001b[0;34m\u001b[0m\u001b[0m\n\u001b[1;32m    220\u001b[0m                     (self._error_message(selector), timeout, self.description))\n",
      "\u001b[0;31mServerSelectionTimeoutError\u001b[0m: localhost:27017: [Errno 111] Connection refused, Timeout: 30s, Topology Description: <TopologyDescription id: 619da73ee5fc333959ff5aa8, topology_type: Single, servers: [<ServerDescription ('localhost', 27017) server_type: Unknown, rtt: None, error=AutoReconnect('localhost:27017: [Errno 111] Connection refused')>]>"
     ]
    }
   ],
   "source": [
    "db = GHDatabase('ecs260', 'webframework_repos', os.environ['CONNECTION_STRING'])\n",
    "\n",
    "repos = list(db.get_repos())\n",
    "\n",
    "num_repos = len(repos)\n",
    "print(f'Number of repos: {num_repos}')"
   ]
  },
  {
   "cell_type": "code",
   "execution_count": null,
   "id": "0ad4e96e",
   "metadata": {},
   "outputs": [],
   "source": [
    "rows = []\n",
    "\n",
    "for repojson in repos:\n",
    "    repo = GHRepo(repojson)\n",
    "#     print(repo.url)\n",
    "#     print(repo.badges[0])\n",
    "    new_row = dict()\n",
    "    new_row['name'] = repo.name\n",
    "    for b in repo.badges[0]:\n",
    "        new_row[b] = True\n",
    "    rows.append(new_row)\n",
    "    \n",
    "df = pd.DataFrame(rows)\n",
    "df = df.fillna(False).replace(1.0, True)\n",
    "df"
   ]
  },
  {
   "cell_type": "code",
   "execution_count": null,
   "id": "48509cbe",
   "metadata": {},
   "outputs": [],
   "source": [
    "fig, ax = plt.subplots(dpi=300)\n",
    "\n",
    "repo_cis_series = df[df.columns[1:]].sum(axis=1).sort_values(ascending=False).value_counts().astype(int)\n",
    "\n",
    "\n",
    "ci_redun_plot = repo_cis_series.plot.bar(#title='CI Service Redundancy',\n",
    "    ylabel='Number of projects'\n",
    "    , xlabel='Number of enabled CI services'\n",
    "    , logy=True\n",
    "    , ax=ax)\n",
    "\n",
    "ax.set_ylim([0, repo_cis_series.max() + 5000])\n",
    "ci_redun_plot.bar_label(ci_redun_plot.containers[0])\n",
    "\n",
    "fig.savefig('../plots/ci-service-redundancy.pdf', transparent = True, bbox_inches = 'tight', dpi=300)"
   ]
  },
  {
   "cell_type": "code",
   "execution_count": null,
   "id": "29f7db05",
   "metadata": {},
   "outputs": [],
   "source": [
    "fig, ax = plt.subplots(dpi=300)\n",
    "ci_series = df[df.columns[1:]].sum().sort_values(ascending=False)\n",
    "ci_series['other'] = 0\n",
    "for idx, val in ci_series.items():\n",
    "    if idx == 'other':\n",
    "        continue\n",
    "    if val < 50:\n",
    "        ci_series['other'] = ci_series['other'] + val\n",
    "        ci_series.drop(idx, inplace=True)\n",
    "\n",
    "ci_series.plot.pie(#     title='CI Service Usage',\n",
    "                ylabel=''\n",
    "               , figsize=(6,6)\n",
    "               , legend=False\n",
    "               , ax=ax\n",
    "               , autopct='%1.2f\\%%')\n",
    "\n",
    "centre_circle = plt.Circle((0,0),0.70,fc='white')\n",
    "fig.gca().add_artist(centre_circle)\n",
    "\n",
    "\n",
    "\n",
    "fig.savefig('../plots/ci-service-usage.pdf', transparent = True, bbox_inches = 'tight', pad=0, dpi=300)"
   ]
  },
  {
   "cell_type": "code",
   "execution_count": null,
   "id": "f4a6cc2c",
   "metadata": {},
   "outputs": [],
   "source": [
    "langs = []\n",
    "for repojson in repos:\n",
    "    repo = GHRepo(repojson)\n",
    "#     print(repo.url)\n",
    "#     print(repo.badges[0])\n",
    "    new_row = dict()\n",
    "    new_row['name'] = repo.name\n",
    "    l = repo.primarylanguage\n",
    "    new_row[l] = True\n",
    "    langs_df = langs.append(new_row)\n",
    "    \n",
    "langs_df = pd.DataFrame(langs)\n",
    "langs_df = langs_df.fillna(False).replace(1.0, True)\n",
    "langs_df"
   ]
  },
  {
   "cell_type": "code",
   "execution_count": null,
   "id": "e5fbb079",
   "metadata": {},
   "outputs": [],
   "source": [
    "fig, ax = plt.subplots(dpi=300)\n",
    "\n",
    "lang_series = langs_df[langs_df.columns[1:]].sum().sort_values(ascending=False)\n",
    "lang_series['other'] = 0\n",
    "for idx, val in lang_series.items():\n",
    "    if idx == 'other':\n",
    "        continue\n",
    "    if val < 75:\n",
    "        lang_series['other'] = lang_series['other'] + val\n",
    "        lang_series.drop(idx, inplace=True)\n",
    "\n",
    "lang_plot = lang_series.plot.bar(#title='Project Primary Language',\n",
    "               ylabel='Number of projects'\n",
    "               , xlabel='Primary Language'\n",
    "#                , figsize=(6,6)\n",
    "               , logy=True\n",
    "               , ax=ax\n",
    "               , legend=False)\n",
    "\n",
    "ax.set_ylim([0, lang_series.max() + 10000])\n",
    "lang_plot.bar_label(lang_plot.containers[0])\n",
    "\n",
    "fig.savefig('../plots/project-primary-language.pdf', transparent = True, bbox_inches = 'tight', dpi=300)"
   ]
  },
  {
   "cell_type": "code",
   "execution_count": null,
   "id": "a05cdec1",
   "metadata": {},
   "outputs": [],
   "source": [
    "topics = []\n",
    "for repojson in repos:\n",
    "    repo = GHRepo(repojson)\n",
    "#     print(repo.url)\n",
    "#     print(repo.badges[0])\n",
    "    new_row = dict()\n",
    "    new_row['name'] = repo.name\n",
    "    webtopics = ['angular', 'react', 'vue']\n",
    "    for t in webtopics:\n",
    "        if t in repo.topics:\n",
    "            new_row[t] = True\n",
    "    topics_df = topics.append(new_row)\n",
    "\n",
    "topics_df = pd.DataFrame(topics)\n",
    "topics_df = topics_df.fillna(False).replace(1.0, True)\n",
    "topics_df"
   ]
  },
  {
   "cell_type": "code",
   "execution_count": null,
   "id": "17a334d5",
   "metadata": {},
   "outputs": [],
   "source": [
    "from matplotlib_venn import venn3\n",
    "webtopics = ['angular', 'react', 'vue']\n",
    "\n",
    "t_df=topics_df.drop('name', axis=1).groupby(webtopics, as_index=False).size()\n",
    "t_df"
   ]
  },
  {
   "cell_type": "code",
   "execution_count": null,
   "id": "519f91ed",
   "metadata": {},
   "outputs": [],
   "source": [
    "fig, ax = plt.subplots(dpi=300)\n",
    "# https://towardsdatascience.com/professional-venn-diagrams-in-python-638abfff39cc\n",
    "# https://pypi.org/project/matplotlib-venn/\n",
    "sets = tuple(t_df['size'])\n",
    "\n",
    "# print(sets)\n",
    "# plt.title('Projects with Web Framework Topics')\n",
    "venn3(subsets = sets\n",
    "      , set_labels = ('Vue', 'React', 'Angular'), ax=ax)\n",
    "\n",
    "fig.savefig('../plots/project-webframework-venn.pdf', transparent = True, bbox_inches = 'tight', dpi=300)"
   ]
  },
  {
   "cell_type": "code",
   "execution_count": null,
   "id": "f8a4bb2a",
   "metadata": {},
   "outputs": [],
   "source": [
    "topicci = []\n",
    "webtopics = ['angular', 'react', 'vue']\n",
    "for t in webtopics:\n",
    "    new_row = dict()\n",
    "    new_row['framework'] = t\n",
    "    for repojson in repos:\n",
    "        repo = GHRepo(repojson)\n",
    "        if t not in repo.topics:\n",
    "            continue\n",
    "    #     print(repo.url)\n",
    "    #     print(repo.badges[0])\n",
    "\n",
    "        for b in repo.badges[0]:\n",
    "            new_row[b] = new_row.get(b, 0) + 1\n",
    "\n",
    "    topicci_df = topicci.append(new_row)\n",
    "    \n",
    "topicci_df = pd.DataFrame(topicci)    \n",
    "topicci_df = topicci_df.fillna(0)\n",
    "topicci_df"
   ]
  },
  {
   "cell_type": "code",
   "execution_count": null,
   "id": "b7b1ef0e",
   "metadata": {},
   "outputs": [],
   "source": [
    "topicci_dfT = topicci_df.set_index('framework').T"
   ]
  },
  {
   "cell_type": "code",
   "execution_count": null,
   "id": "a73a04b7",
   "metadata": {},
   "outputs": [],
   "source": [
    "topiccipct_df = pd.DataFrame()\n",
    "topiccipct_df['Angular'] = topicci_dfT['angular'] / topicci_dfT['angular'].sum()\n",
    "topiccipct_df['React'] = topicci_dfT['react'] / topicci_dfT['react'].sum()\n",
    "topiccipct_df['Vue'] = topicci_dfT['vue'] / topicci_dfT['vue'].sum()"
   ]
  },
  {
   "cell_type": "code",
   "execution_count": null,
   "id": "4989fca2",
   "metadata": {},
   "outputs": [],
   "source": [
    "topiccipct_df.reindex(['travisci', 'github', 'circleci', 'appveyorci', 'azure_pipelines'])"
   ]
  },
  {
   "cell_type": "code",
   "execution_count": null,
   "id": "9b0bb8a9",
   "metadata": {},
   "outputs": [],
   "source": [
    "topic_ci_en = []\n",
    "webtopics = ['angular', 'react', 'vue']\n",
    "for t in webtopics:\n",
    "    new_row = dict()\n",
    "    new_row['framework'] = t\n",
    "    for repojson in repos:\n",
    "        repo = GHRepo(repojson)\n",
    "        if t not in repo.topics:\n",
    "            continue\n",
    "    #     print(repo.url)\n",
    "    #     print(repo.badges[0])\n",
    "        if len(list(repo.badges[0])) > 0:\n",
    "            new_row['has_ci'] = new_row.get('has_ci', 0) + 1\n",
    "        else:\n",
    "            new_row['no_ci'] = new_row.get('no_ci', 0) + 1\n",
    "\n",
    "\n",
    "    topic_ci_en.append(new_row)\n",
    "    \n",
    "    \n",
    "topic_ci_en_df = pd.DataFrame(topic_ci_en)\n",
    "topic_ci_en_df = topic_ci_en_df.fillna(0)\n",
    "topic_ci_en_df = topic_ci_en_df.set_index('framework').T\n",
    "topic_ci_en_df"
   ]
  },
  {
   "cell_type": "code",
   "execution_count": null,
   "id": "9ff67385",
   "metadata": {},
   "outputs": [],
   "source": [
    "topic_ci_en_pct_df = pd.DataFrame()\n",
    "topic_ci_en_pct_df['Angular'] = topic_ci_en_df['angular']['has_ci'] / topic_ci_en_df['angular'].sum()\n",
    "topic_ci_en_pct_df['React'] = topic_ci_en_df['react']['has_ci'] / topic_ci_en_df['react'].sum()\n",
    "topic_ci_en_pct_df['Vue'] = topic_ci_en_df['vue']['has_ci'] / topic_ci_en_df['vue'].sum()\n",
    "\n",
    "# topiccipct_df['React'] = topicci_dfT['react'] / topicci_dfT['react'].sum()\n",
    "# topiccipct_df['Vue'] = topicci_dfT['vue'] / topicci_dfT['vue'].sum() \n",
    "topic_ci_en_pct_df"
   ]
  },
  {
   "cell_type": "code",
   "execution_count": null,
   "id": "24f5aaec",
   "metadata": {},
   "outputs": [],
   "source": [
    "print(topic_ci_en_df['angular']['has_ci'] / topic_ci_en_df['angular'].sum())\n",
    "print(topic_ci_en_df['react']['has_ci'] / topic_ci_en_df['react'].sum())\n",
    "print(topic_ci_en_df['vue']['has_ci'] / topic_ci_en_df['vue'].sum())"
   ]
  },
  {
   "cell_type": "code",
   "execution_count": null,
   "id": "e3bb1773",
   "metadata": {},
   "outputs": [],
   "source": []
  }
 ],
 "metadata": {
  "kernelspec": {
   "display_name": "Python 3 (ipykernel)",
   "language": "python",
   "name": "python3"
  },
  "language_info": {
   "codemirror_mode": {
    "name": "ipython",
    "version": 3
   },
   "file_extension": ".py",
   "mimetype": "text/x-python",
   "name": "python",
   "nbconvert_exporter": "python",
   "pygments_lexer": "ipython3",
   "version": "3.9.7"
  }
 },
 "nbformat": 4,
 "nbformat_minor": 5
}
