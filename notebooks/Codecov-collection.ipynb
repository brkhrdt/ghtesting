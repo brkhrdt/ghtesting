{
 "cells": [
  {
   "cell_type": "code",
   "execution_count": 1,
   "id": "fac2b77b",
   "metadata": {},
   "outputs": [],
   "source": [
    "import requests\n",
    "import json\n",
    "import sys\n",
    "import os\n",
    "sys.path.insert(0, '../ghtesting')\n",
    "\n",
    "import pandas as pd\n",
    "from ghdatabase import GHDatabase\n",
    "from ghrepo import GHRepo\n",
    "from tqdm.auto import tqdm\n",
    "from datetime import datetime\n",
    "from git import Repo\n",
    "import pickle"
   ]
  },
  {
   "cell_type": "code",
   "execution_count": 2,
   "id": "f65b7d5f",
   "metadata": {},
   "outputs": [
    {
     "name": "stdout",
     "output_type": "stream",
     "text": [
      "Number of repos: 7644\n"
     ]
    }
   ],
   "source": [
    "repo_db = GHDatabase('ecs260', 'webframework_repos', os.environ['CONNECTION_STRING'])\n",
    "\n",
    "repos = list(repo_db.get_repos())\n",
    "\n",
    "num_repos = len(repos)\n",
    "print(f'Number of repos: {num_repos}')"
   ]
  },
  {
   "cell_type": "code",
   "execution_count": 3,
   "id": "16ae2d7b",
   "metadata": {},
   "outputs": [],
   "source": [
    "codecov_db = GHDatabase('ecs260', 'codecov_api', os.environ['CONNECTION_STRING'])\n",
    "codecov_api = list(codecov_db.get_repos())"
   ]
  },
  {
   "cell_type": "markdown",
   "id": "706ce05a",
   "metadata": {},
   "source": [
    "# Get initial responses from codecov api"
   ]
  },
  {
   "cell_type": "code",
   "execution_count": 4,
   "id": "fde9adc1",
   "metadata": {},
   "outputs": [],
   "source": [
    "def get_codecov_response(_id, page=None):\n",
    "    page = f'?page=%s&limit=250' % page if page is not None else ''\n",
    "    url = 'http://codecov.io/api/gh/%s/commits%s' % (_id, page)\n",
    "    r = requests.get(url)\n",
    "    return r.json()"
   ]
  },
  {
   "cell_type": "code",
   "execution_count": 5,
   "id": "4ac26d44",
   "metadata": {},
   "outputs": [
    {
     "data": {
      "application/vnd.jupyter.widget-view+json": {
       "model_id": "4c88721083fc4f3faeb5ecee4e784bb3",
       "version_major": 2,
       "version_minor": 0
      },
      "text/plain": [
       "0it [00:00, ?it/s]"
      ]
     },
     "metadata": {},
     "output_type": "display_data"
    }
   ],
   "source": [
    "ids_done = set(map(lambda x: x['_id'], codecov_api))\n",
    "remaining = [repo for repo in repos if repo['_id'] not in ids_done]\n",
    "\n",
    "for repo in tqdm(remaining):\n",
    "    \n",
    "    # get data from api\n",
    "    _id = repo['_id']\n",
    "    page = 1\n",
    "    first_response = None\n",
    "    repo_commits = []\n",
    "    \n",
    "    while True:\n",
    "        \n",
    "        # get commits page from api\n",
    "        response = get_codecov_response(_id, page)\n",
    "        \n",
    "        # save first response\n",
    "        if page == 1:\n",
    "            first_response = response\n",
    "            \n",
    "        # get commits if available\n",
    "        commits = response.get('commits', [])\n",
    "        \n",
    "        # extend repo commits collection\n",
    "        repo_commits.extend(commits)\n",
    "        \n",
    "        # increment page number\n",
    "        page += 1\n",
    "        \n",
    "        # break if no new commits in current page\n",
    "        if len(commits) == 0:\n",
    "            break\n",
    "       \n",
    "    codecov_db.update_repo(dict(\n",
    "        _id=_id,\n",
    "        data=first_response,\n",
    "        commits=repo_commits\n",
    "    ))"
   ]
  },
  {
   "cell_type": "markdown",
   "id": "43bad38d",
   "metadata": {},
   "source": [
    "# Check coverage"
   ]
  },
  {
   "cell_type": "code",
   "execution_count": 6,
   "id": "58dff7f0",
   "metadata": {},
   "outputs": [],
   "source": [
    "active = []\n",
    "inactive = []\n",
    "errors = []\n",
    "\n",
    "for response in codecov_api:\n",
    "    if 'error' in response['data']:\n",
    "        errors.append(response)\n",
    "        \n",
    "    elif response['data']['repo']['active']:\n",
    "        active.append(response)\n",
    "    \n",
    "    elif not response['data']['repo']['active']:\n",
    "        inactive.append(response)"
   ]
  },
  {
   "cell_type": "code",
   "execution_count": 7,
   "id": "affad095",
   "metadata": {},
   "outputs": [
    {
     "name": "stdout",
     "output_type": "stream",
     "text": [
      "Errors 1335\n",
      "Inactive 5546\n",
      "Active 763\n"
     ]
    }
   ],
   "source": [
    "print('Errors', len(errors))\n",
    "print('Inactive', len(inactive))\n",
    "print('Active', len(active))"
   ]
  }
 ],
 "metadata": {
  "kernelspec": {
   "display_name": "Python 3 (ipykernel)",
   "language": "python",
   "name": "python3"
  },
  "language_info": {
   "codemirror_mode": {
    "name": "ipython",
    "version": 3
   },
   "file_extension": ".py",
   "mimetype": "text/x-python",
   "name": "python",
   "nbconvert_exporter": "python",
   "pygments_lexer": "ipython3",
   "version": "3.9.7"
  }
 },
 "nbformat": 4,
 "nbformat_minor": 5
}
