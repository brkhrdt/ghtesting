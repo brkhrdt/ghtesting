{
 "cells": [
  {
   "cell_type": "code",
   "execution_count": null,
   "id": "fac2b77b",
   "metadata": {},
   "outputs": [],
   "source": [
    "import requests\n",
    "import json\n",
    "import sys\n",
    "import os\n",
    "sys.path.insert(0, '../ghtesting')\n",
    "\n",
    "import pandas as pd\n",
    "from ghdatabase import GHDatabase\n",
    "from ghrepo import GHRepo\n",
    "from tqdm.auto import tqdm\n",
    "from datetime import datetime\n",
    "from git import Repo\n",
    "import pickle"
   ]
  },
  {
   "cell_type": "code",
   "execution_count": null,
   "id": "f65b7d5f",
   "metadata": {},
   "outputs": [],
   "source": [
    "repo_db = GHDatabase('ecs260', 'webframework_repos', os.environ['CONNECTION_STRING'])\n",
    "\n",
    "repos = list(repo_db.get_repos())\n",
    "\n",
    "num_repos = len(repos)\n",
    "print(f'Number of repos: {num_repos}')"
   ]
  },
  {
   "cell_type": "code",
   "execution_count": null,
   "id": "16ae2d7b",
   "metadata": {},
   "outputs": [],
   "source": [
    "codecov_db = GHDatabase('ecs260', 'codecov_api', os.environ['CONNECTION_STRING'])\n",
    "codecov_api = list(codecov_db.get_repos())"
   ]
  },
  {
   "cell_type": "markdown",
   "id": "706ce05a",
   "metadata": {},
   "source": [
    "# Get initial responses from codecov api"
   ]
  },
  {
   "cell_type": "code",
   "execution_count": null,
   "id": "fde9adc1",
   "metadata": {},
   "outputs": [],
   "source": [
    "def get_codecov_response(_id, page=None):\n",
    "    page = f'?page=%s&limit=250' % page if page is not None else ''\n",
    "    url = 'http://codecov.io/api/gh/%s/commits%s' % (_id, page)\n",
    "    r = requests.get(url)\n",
    "    return r.json()"
   ]
  },
  {
   "cell_type": "code",
   "execution_count": null,
   "id": "4ac26d44",
   "metadata": {},
   "outputs": [],
   "source": [
    "ids_done = set(map(lambda x: x['_id'], codecov_api))\n",
    "remaining = [repo for repo in repos if repo['_id'] not in ids_done]\n",
    "\n",
    "for repo in tqdm(remaining):\n",
    "    \n",
    "    # get data from api\n",
    "    _id = repo['_id']\n",
    "    page = 1\n",
    "    first_response = None\n",
    "    repo_commits = []\n",
    "    \n",
    "    while True:\n",
    "        \n",
    "        # get commits page from api\n",
    "        response = get_codecov_response(_id, page)\n",
    "        \n",
    "        # save first response\n",
    "        if page == 1:\n",
    "            first_response = response\n",
    "            \n",
    "        # get commits if available\n",
    "        commits = response.get('commits', [])\n",
    "        \n",
    "        # extend repo commits collection\n",
    "        repo_commits.extend(commits)\n",
    "        \n",
    "        # increment page number\n",
    "        page += 1\n",
    "        \n",
    "        # break if no new commits in current page\n",
    "        if len(commits) == 0:\n",
    "            break\n",
    "       \n",
    "    codecov_db.update_repo(dict(\n",
    "        _id=_id,\n",
    "        data=first_response,\n",
    "        commits=repo_commits\n",
    "    ))"
   ]
  },
  {
   "cell_type": "markdown",
   "id": "43bad38d",
   "metadata": {},
   "source": [
    "# Check coverage"
   ]
  },
  {
   "cell_type": "code",
   "execution_count": null,
   "id": "58dff7f0",
   "metadata": {},
   "outputs": [],
   "source": [
    "active = []\n",
    "inactive = []\n",
    "errors = []\n",
    "\n",
    "for response in codecov_api:\n",
    "    if 'error' in response['data']:\n",
    "        errors.append(response)\n",
    "        \n",
    "    elif response['data']['repo']['active']:\n",
    "        active.append(response)\n",
    "    \n",
    "    elif not response['data']['repo']['active']:\n",
    "        inactive.append(response)"
   ]
  },
  {
   "cell_type": "code",
   "execution_count": null,
   "id": "affad095",
   "metadata": {},
   "outputs": [],
   "source": [
    "print('Errors', len(errors))\n",
    "print('Inactive', len(inactive))\n",
    "print('Active', len(active))"
   ]
  },
  {
   "cell_type": "markdown",
   "id": "c36286d9",
   "metadata": {},
   "source": [
    "# Collecting valid coverage reports and saving files"
   ]
  },
  {
   "cell_type": "code",
   "execution_count": null,
   "id": "e423ae2c",
   "metadata": {},
   "outputs": [],
   "source": [
    "def get_repository_path(repo):\n",
    "    return os.path.join('repositories', repo.name.split('/')[1])\n",
    "    \n",
    "def get_repos():\n",
    "    repos_pickle = '../data/repos.pickle'\n",
    "\n",
    "    # load from disk if already cached\n",
    "    if os.path.exists(repos_pickle):\n",
    "        with open(repos_pickle, 'rb') as f:\n",
    "            return pickle.load(f)\n",
    "        \n",
    "    # get list of repos\n",
    "    db = GHDatabase('ecs260', 'webframework_repos', os.environ['CONNECTION_STRING'])\n",
    "    repos = [GHRepo(i) for i in db.get_repos()]\n",
    "    repos = [repo for repo in repos if os.path.exists(get_repository_path(repo))]\n",
    "        \n",
    "    # get commits\n",
    "    cc = GHDatabase('ecs260', 'codecov_api', os.environ['CONNECTION_STRING'])\n",
    "    commits = list(cc.get_repos())\n",
    "    \n",
    "    # put codecov reports with repo\n",
    "    for repo in repos:\n",
    "        repo.set_codecov_reports([i for i in commits if i['_id'] == repo.name][0]['commits'])\n",
    "  \n",
    "    # write to disk\n",
    "    with open(repos_pickle, 'wb') as f:\n",
    "        pickle.dump(repos, f)\n",
    "\n",
    "    return repos\n",
    "\n",
    "def get_webframework(repo):\n",
    "    if 'angular' in repo.topics:\n",
    "        return 'Angular'\n",
    "    if 'vue' in repo.topics:\n",
    "        return 'Vue'\n",
    "    if 'react' in repo.topics:\n",
    "        return 'React'\n",
    "\n",
    "def get_contributors(report):\n",
    "    repo = Repo(get_repository_path(repo))\n",
    "\n",
    "def get_branch(repo):\n",
    "    return Repo(get_repository_path(repo)).active_branch.name\n",
    "\n",
    "def get_reports(repo):\n",
    "    # get reports only for the main branch\n",
    "    main_branch = get_branch(repo)\n",
    "    main_reports = [r for r in repo.codecov_reports if r['branch'] == main_branch]\n",
    "        \n",
    "    # sort by timestamp\n",
    "    strptime = lambda x : datetime.strptime(x['timestamp'].split('.')[0], '%Y-%m-%d %H:%M:%S')\n",
    "    return sorted(main_reports, key=strptime)"
   ]
  },
  {
   "cell_type": "code",
   "execution_count": null,
   "id": "5d8d1430",
   "metadata": {},
   "outputs": [],
   "source": [
    "# if os.path.exists('../data/final_reports.pickle'):\n",
    "#     with open('../data/final_reports.pickle', 'rb') as f:\n",
    "#         final_reports = pickle.load(f)\n",
    "# else:\n",
    "# final_reports = {}\n",
    "\n",
    "for repo in tqdm(get_repos()):\n",
    "    \n",
    "    if repo.name in final_reports:\n",
    "        continue\n",
    "\n",
    "    git = Repo(get_repository_path(repo))\n",
    "\n",
    "    reports = get_reports(repo)\n",
    "\n",
    "    if len(reports) == 0:\n",
    "        continue\n",
    "\n",
    "    latest_report = None\n",
    "    earliest_report = None\n",
    "    branch = get_branch(repo)\n",
    "\n",
    "    try:\n",
    "        for report in reports:\n",
    "            try:\n",
    "                git.git.checkout(report['commitid'])\n",
    "                git.git.checkout(branch)\n",
    "                earliest_report = report\n",
    "                break\n",
    "            except KeyboardInterrupt as e:\n",
    "                raise e\n",
    "            except:\n",
    "                pass\n",
    "    finally:\n",
    "        git.git.checkout(branch)\n",
    "\n",
    "    try:\n",
    "        for report in reports[::-1]:\n",
    "            try:\n",
    "                git.git.checkout(report['commitid'])\n",
    "                git.git.checkout(branch)\n",
    "                latest_report = report\n",
    "                break\n",
    "            except KeyboardInterrupt as e:\n",
    "                raise e\n",
    "            except:\n",
    "                pass\n",
    "    finally:\n",
    "        git.git.checkout(branch)\n",
    "\n",
    "#     if latest_report is not None and earliest_report is not None:\n",
    "    final_reports[repo.name] = dict(latest=latest_report, earliest=earliest_report)\n",
    "\n",
    "with open('../data/final_reports.pickle', 'wb') as f:\n",
    "    pickle.dump(final_reports, f)"
   ]
  },
  {
   "cell_type": "code",
   "execution_count": null,
   "id": "8fe1bac6",
   "metadata": {},
   "outputs": [],
   "source": [
    "len(final_reports)"
   ]
  },
  {
   "cell_type": "code",
   "execution_count": null,
   "id": "fb6bb8a9",
   "metadata": {},
   "outputs": [],
   "source": []
  }
 ],
 "metadata": {
  "kernelspec": {
   "display_name": "Python 3 (ipykernel)",
   "language": "python",
   "name": "python3"
  },
  "language_info": {
   "codemirror_mode": {
    "name": "ipython",
    "version": 3
   },
   "file_extension": ".py",
   "mimetype": "text/x-python",
   "name": "python",
   "nbconvert_exporter": "python",
   "pygments_lexer": "ipython3",
   "version": "3.9.7"
  }
 },
 "nbformat": 4,
 "nbformat_minor": 5
}
