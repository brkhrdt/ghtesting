{
 "cells": [
  {
   "cell_type": "code",
   "execution_count": null,
   "id": "9a2d33e0",
   "metadata": {},
   "outputs": [],
   "source": [
    "import json\n",
    "import sys\n",
    "import os\n",
    "sys.path.insert(0, '../ghtesting')\n",
    "\n",
    "import pandas as pd\n",
    "from util import *"
   ]
  },
  {
   "cell_type": "code",
   "execution_count": null,
   "id": "e1745dc0",
   "metadata": {},
   "outputs": [],
   "source": [
    "repos = get_repos()"
   ]
  },
  {
   "cell_type": "code",
   "execution_count": null,
   "id": "7dad3ead",
   "metadata": {},
   "outputs": [],
   "source": [
    "for repo in repos:\n",
    "    latest = get_latest_report(repo)\n",
    "    earliest = get_earliest_report(repo)\n",
    "    \n",
    "    if latest is None or earliest is None:\n",
    "        continue\n",
    "\n",
    "    print(repo.name)\n",
    "    \n",
    "    print(\"Web framework:\", get_webframework(repo))\n",
    "    print(\"Main branch:\", get_branch(repo))\n",
    "    \n",
    "    \n",
    "    print(\"Latest report:\", latest['timestamp'])\n",
    "    print(\"Contributors:\", len(get_contributors(repo, latest)))\n",
    "    print(\"Earliest report:\", earliest['timestamp'])\n",
    "    print(\"Contributors:\", len(get_contributors(repo, earliest)))\n",
    "\n",
    "    print()"
   ]
  },
  {
   "cell_type": "code",
   "execution_count": null,
   "id": "67f8a55d",
   "metadata": {},
   "outputs": [],
   "source": [
    "get_metrics(get_latest_report(repos[1]))"
   ]
  },
  {
   "cell_type": "code",
   "execution_count": null,
   "id": "f117c5c5",
   "metadata": {},
   "outputs": [],
   "source": [
    "get_metrics(get_earliest_report(repos[1]))"
   ]
  },
  {
   "cell_type": "code",
   "execution_count": null,
   "id": "224d63ee",
   "metadata": {},
   "outputs": [],
   "source": []
  }
 ],
 "metadata": {
  "kernelspec": {
   "display_name": "Python 3 (ipykernel)",
   "language": "python",
   "name": "python3"
  },
  "language_info": {
   "codemirror_mode": {
    "name": "ipython",
    "version": 3
   },
   "file_extension": ".py",
   "mimetype": "text/x-python",
   "name": "python",
   "nbconvert_exporter": "python",
   "pygments_lexer": "ipython3",
   "version": "3.9.7"
  }
 },
 "nbformat": 4,
 "nbformat_minor": 5
}
